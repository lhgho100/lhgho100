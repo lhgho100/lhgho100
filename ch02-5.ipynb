{
 "cells": [
  {
   "cell_type": "code",
   "execution_count": 1,
   "id": "filled-updating",
   "metadata": {},
   "outputs": [],
   "source": [
    "import warnings\n",
    "warnings.filterwarnings(action='ignore')"
   ]
  },
  {
   "cell_type": "code",
   "execution_count": 2,
   "id": "adjacent-russian",
   "metadata": {},
   "outputs": [],
   "source": [
    "import numpy as np\n",
    "import os\n",
    "import tensorflow as tf"
   ]
  },
  {
   "cell_type": "code",
   "execution_count": 3,
   "id": "bound-border",
   "metadata": {},
   "outputs": [],
   "source": [
    "work_dir = './dogs_cats/data/'\n",
    "image_height, image_width = 150, 150\n",
    "train_dir = os.path.join(work_dir, 'train')\n",
    "test_dir = os.path.join(work_dir, 'test')\n",
    "\n",
    "no_classes = 2\n",
    "no_validation = 800\n",
    "epochs = 2\n",
    "batch_size = 200\n",
    "no_train = 2000\n",
    "no_test = 800\n",
    "input_shape = (image_height, image_width, 3)\n",
    "epoch_steps = no_train // batch_size\n",
    "test_steps = no_test // batch_size"
   ]
  },
  {
   "cell_type": "code",
   "execution_count": 4,
   "id": "competent-tradition",
   "metadata": {},
   "outputs": [],
   "source": [
    "def simple_cnn(input_shape):\n",
    "    model = tf.keras.models.Sequential()\n",
    "    model.add(tf.keras.layers.Conv2D(filters=64,\n",
    "                                     kernel_size=(3,3),\n",
    "                                     activation='relu',\n",
    "                                     input_shape=input_shape))\n",
    "    model.add(tf.keras.layers.Conv2D(filters=128,\n",
    "                                    kernel_size=(3,3),\n",
    "                                    activation='relu'))\n",
    "    model.add(tf.keras.layers.MaxPooling2D(pool_size=(2,2)))\n",
    "    model.add(tf.keras.layers.Dropout(rate=0.3))\n",
    "    model.add(tf.keras.layers.Flatten())\n",
    "    model.add(tf.keras.layers.Dense(units=1024, activation='relu'))\n",
    "    model.add(tf.keras.layers.Dropout(rate=0.3))\n",
    "    model.add(tf.keras.layers.Dense(units=no_classes, activation='softmax'))\n",
    "    model.compile(loss=tf.keras.losses.categorical_crossentropy, \n",
    "                  optimizer=tf.keras.optimizers.Adam(),\n",
    "                  metrics=['accuracy'])\n",
    "    return model"
   ]
  },
  {
   "cell_type": "code",
   "execution_count": 5,
   "id": "divine-cowboy",
   "metadata": {},
   "outputs": [
    {
     "name": "stdout",
     "output_type": "stream",
     "text": [
      "WARNING:tensorflow:From C:\\ProgramData\\Anaconda3\\envs\\cvtf1.15\\lib\\site-packages\\tensorflow_core\\python\\ops\\resource_variable_ops.py:1630: calling BaseResourceVariable.__init__ (from tensorflow.python.ops.resource_variable_ops) with constraint is deprecated and will be removed in a future version.\n",
      "Instructions for updating:\n",
      "If using Keras pass *_constraint arguments to layers.\n"
     ]
    }
   ],
   "source": [
    "simple_cnn_model = simple_cnn(input_shape)"
   ]
  },
  {
   "cell_type": "code",
   "execution_count": 8,
   "id": "dated-amber",
   "metadata": {},
   "outputs": [],
   "source": [
    "generator_train = tf.keras.preprocessing.image.ImageDataGenerator(rescale=1. / 255)\n",
    "generator_test = tf.keras.preprocessing.image.ImageDataGenerator(rescale=1. / 255)"
   ]
  },
  {
   "cell_type": "code",
   "execution_count": 9,
   "id": "south-direction",
   "metadata": {},
   "outputs": [
    {
     "name": "stdout",
     "output_type": "stream",
     "text": [
      "Found 2000 images belonging to 2 classes.\n"
     ]
    }
   ],
   "source": [
    "train_images = generator_train.flow_from_directory(train_dir,\n",
    "                                                  batch_size=batch_size,\n",
    "                                                  target_size=(image_width, image_height))"
   ]
  },
  {
   "cell_type": "code",
   "execution_count": 10,
   "id": "elder-living",
   "metadata": {},
   "outputs": [
    {
     "name": "stdout",
     "output_type": "stream",
     "text": [
      "Found 800 images belonging to 2 classes.\n"
     ]
    }
   ],
   "source": [
    "test_images = generator_test.flow_from_directory(test_dir,\n",
    "                                                  batch_size=batch_size,\n",
    "                                                  target_size=(image_width, image_height))"
   ]
  },
  {
   "cell_type": "code",
   "execution_count": 11,
   "id": "aware-landscape",
   "metadata": {},
   "outputs": [
    {
     "name": "stdout",
     "output_type": "stream",
     "text": [
      "Epoch 1/2\n",
      " 9/10 [==========================>...] - ETA: 15s - loss: 41.9143 - acc: 0.5122Epoch 1/2\n",
      "10/10 [==============================] - 166s 17s/step - loss: 37.7949 - acc: 0.5125 - val_loss: 0.7032 - val_acc: 0.5275\n",
      "Epoch 2/2\n",
      " 9/10 [==========================>...] - ETA: 13s - loss: 0.7098 - acc: 0.5367Epoch 1/2\n",
      "10/10 [==============================] - 151s 15s/step - loss: 0.7119 - acc: 0.5335 - val_loss: 0.6739 - val_acc: 0.5075\n"
     ]
    },
    {
     "data": {
      "text/plain": [
       "<tensorflow.python.keras.callbacks.History at 0x1939b9e2c48>"
      ]
     },
     "execution_count": 11,
     "metadata": {},
     "output_type": "execute_result"
    }
   ],
   "source": [
    " # 이함수는 cpu와 gpu를 같이 사용 하게끔 해 줌\n",
    "simple_cnn_model.fit_generator(train_images, steps_per_epoch=epoch_steps,\n",
    "                               epochs=epochs,\n",
    "                               validation_data=test_images,\n",
    "                               validation_steps=test_steps)\n",
    "# simple_cnn_model.fit()"
   ]
  },
  {
   "cell_type": "code",
   "execution_count": null,
   "id": "broadband-martin",
   "metadata": {},
   "outputs": [],
   "source": []
  }
 ],
 "metadata": {
  "kernelspec": {
   "display_name": "Python 3",
   "language": "python",
   "name": "python3"
  },
  "language_info": {
   "codemirror_mode": {
    "name": "ipython",
    "version": 3
   },
   "file_extension": ".py",
   "mimetype": "text/x-python",
   "name": "python",
   "nbconvert_exporter": "python",
   "pygments_lexer": "ipython3",
   "version": "3.7.9"
  }
 },
 "nbformat": 4,
 "nbformat_minor": 5
}
