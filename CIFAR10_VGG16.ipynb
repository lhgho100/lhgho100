{
 "cells": [
  {
   "cell_type": "markdown",
   "id": "valid-amber",
   "metadata": {},
   "source": [
    "## CIFAR10 VGG16 분류기"
   ]
  },
  {
   "cell_type": "code",
   "execution_count": 1,
   "id": "historic-mining",
   "metadata": {},
   "outputs": [
    {
     "name": "stdout",
     "output_type": "stream",
     "text": [
      "Collecting package metadata (current_repodata.json): ...working... done\n",
      "Solving environment: ...working... done\n",
      "\n",
      "## Package Plan ##\n",
      "\n",
      "  environment location: C:\\ProgramData\\Anaconda3\\envs\\cvtf2\n",
      "\n",
      "  added / updated specs:\n",
      "    - scikit-image\n",
      "    - scikit-learn\n",
      "\n",
      "\n",
      "The following packages will be downloaded:\n",
      "\n",
      "    package                    |            build\n",
      "    ---------------------------|-----------------\n",
      "    blosc-1.21.0               |       h19a0ad4_0         139 KB\n",
      "    brotli-1.0.9               |       ha925a31_2         332 KB\n",
      "    charls-2.1.0               |       h33f27b4_2          92 KB\n",
      "    cytoolz-0.11.0             |   py37he774522_0         279 KB\n",
      "    dask-core-2021.2.0         |     pyhd3eb1b0_0         643 KB\n",
      "    giflib-5.2.1               |       h62dcd97_0          81 KB\n",
      "    imagecodecs-2021.1.11      |   py37h5da4933_1         5.8 MB\n",
      "    joblib-1.0.1               |     pyhd3eb1b0_0         208 KB\n",
      "    lcms2-2.11                 |       hc51a39a_0         451 KB\n",
      "    lerc-2.2.1                 |       hd77b12b_0         114 KB\n",
      "    libaec-1.0.4               |       h33f27b4_1          31 KB\n",
      "    libdeflate-1.7             |       h2bbff1b_5          49 KB\n",
      "    libzopfli-1.0.3            |       ha925a31_0         176 KB\n",
      "    openjpeg-2.3.0             |       h5ec785f_1         205 KB\n",
      "    pywavelets-1.1.1           |   py37he774522_2         3.4 MB\n",
      "    pyyaml-5.4.1               |   py37h2bbff1b_1         147 KB\n",
      "    scikit-image-0.17.2        |   py37h1e1f486_0         8.8 MB\n",
      "    scikit-learn-0.23.2        |   py37h47e9c7a_0         4.6 MB\n",
      "    snappy-1.1.8               |       h33f27b4_0          80 KB\n",
      "    tifffile-2021.1.14         |     pyhd3eb1b0_1         126 KB\n",
      "    toolz-0.11.1               |     pyhd3eb1b0_0          46 KB\n",
      "    zfp-0.5.5                  |       hd77b12b_4         134 KB\n",
      "    ------------------------------------------------------------\n",
      "                                           Total:        25.9 MB\n",
      "\n",
      "The following NEW packages will be INSTALLED:\n",
      "\n",
      "  blosc              pkgs/main/win-64::blosc-1.21.0-h19a0ad4_0\n",
      "  brotli             pkgs/main/win-64::brotli-1.0.9-ha925a31_2\n",
      "  bzip2              pkgs/main/win-64::bzip2-1.0.8-he774522_0\n",
      "  charls             pkgs/main/win-64::charls-2.1.0-h33f27b4_2\n",
      "  cloudpickle        pkgs/main/noarch::cloudpickle-1.6.0-py_0\n",
      "  cytoolz            pkgs/main/win-64::cytoolz-0.11.0-py37he774522_0\n",
      "  dask-core          pkgs/main/noarch::dask-core-2021.2.0-pyhd3eb1b0_0\n",
      "  giflib             pkgs/main/win-64::giflib-5.2.1-h62dcd97_0\n",
      "  imagecodecs        pkgs/main/win-64::imagecodecs-2021.1.11-py37h5da4933_1\n",
      "  imageio            pkgs/main/noarch::imageio-2.9.0-py_0\n",
      "  joblib             pkgs/main/noarch::joblib-1.0.1-pyhd3eb1b0_0\n",
      "  lcms2              pkgs/main/win-64::lcms2-2.11-hc51a39a_0\n",
      "  lerc               pkgs/main/win-64::lerc-2.2.1-hd77b12b_0\n",
      "  libaec             pkgs/main/win-64::libaec-1.0.4-h33f27b4_1\n",
      "  libdeflate         pkgs/main/win-64::libdeflate-1.7-h2bbff1b_5\n",
      "  libzopfli          pkgs/main/win-64::libzopfli-1.0.3-ha925a31_0\n",
      "  networkx           pkgs/main/noarch::networkx-2.5-py_0\n",
      "  openjpeg           pkgs/main/win-64::openjpeg-2.3.0-h5ec785f_1\n",
      "  pywavelets         pkgs/main/win-64::pywavelets-1.1.1-py37he774522_2\n",
      "  pyyaml             pkgs/main/win-64::pyyaml-5.4.1-py37h2bbff1b_1\n",
      "  scikit-image       pkgs/main/win-64::scikit-image-0.17.2-py37h1e1f486_0\n",
      "  scikit-learn       pkgs/main/win-64::scikit-learn-0.23.2-py37h47e9c7a_0\n",
      "  snappy             pkgs/main/win-64::snappy-1.1.8-h33f27b4_0\n",
      "  threadpoolctl      pkgs/main/noarch::threadpoolctl-2.1.0-pyh5ca1d4c_0\n",
      "  tifffile           pkgs/main/noarch::tifffile-2021.1.14-pyhd3eb1b0_1\n",
      "  toolz              pkgs/main/noarch::toolz-0.11.1-pyhd3eb1b0_0\n",
      "  yaml               pkgs/main/win-64::yaml-0.2.5-he774522_0\n",
      "  zfp                pkgs/main/win-64::zfp-0.5.5-hd77b12b_4\n",
      "\n",
      "\n",
      "\n",
      "Downloading and Extracting Packages\n",
      "\n",
      "openjpeg-2.3.0       | 205 KB    |            |   0% \n",
      "openjpeg-2.3.0       | 205 KB    | ########## | 100% \n",
      "\n",
      "zfp-0.5.5            | 134 KB    |            |   0% \n",
      "zfp-0.5.5            | 134 KB    | ########## | 100% \n",
      "\n",
      "libaec-1.0.4         | 31 KB     |            |   0% \n",
      "libaec-1.0.4         | 31 KB     | ########## | 100% \n",
      "\n",
      "giflib-5.2.1         | 81 KB     |            |   0% \n",
      "giflib-5.2.1         | 81 KB     | ########## | 100% \n",
      "\n",
      "charls-2.1.0         | 92 KB     |            |   0% \n",
      "charls-2.1.0         | 92 KB     | ########## | 100% \n",
      "\n",
      "snappy-1.1.8         | 80 KB     |            |   0% \n",
      "snappy-1.1.8         | 80 KB     | ########## | 100% \n",
      "\n",
      "libzopfli-1.0.3      | 176 KB    |            |   0% \n",
      "libzopfli-1.0.3      | 176 KB    | ########## | 100% \n",
      "\n",
      "pywavelets-1.1.1     | 3.4 MB    |            |   0% \n",
      "pywavelets-1.1.1     | 3.4 MB    | ########## | 100% \n",
      "pywavelets-1.1.1     | 3.4 MB    | ########## | 100% \n",
      "\n",
      "tifffile-2021.1.14   | 126 KB    |            |   0% \n",
      "tifffile-2021.1.14   | 126 KB    | ########## | 100% \n",
      "\n",
      "blosc-1.21.0         | 139 KB    |            |   0% \n",
      "blosc-1.21.0         | 139 KB    | ########## | 100% \n",
      "\n",
      "lerc-2.2.1           | 114 KB    |            |   0% \n",
      "lerc-2.2.1           | 114 KB    | ########## | 100% \n",
      "\n",
      "joblib-1.0.1         | 208 KB    |            |   0% \n",
      "joblib-1.0.1         | 208 KB    | ########## | 100% \n",
      "\n",
      "scikit-learn-0.23.2  | 4.6 MB    |            |   0% \n",
      "scikit-learn-0.23.2  | 4.6 MB    | ########## | 100% \n",
      "scikit-learn-0.23.2  | 4.6 MB    | ########## | 100% \n",
      "\n",
      "brotli-1.0.9         | 332 KB    |            |   0% \n",
      "brotli-1.0.9         | 332 KB    | ########## | 100% \n",
      "\n",
      "pyyaml-5.4.1         | 147 KB    |            |   0% \n",
      "pyyaml-5.4.1         | 147 KB    | ########## | 100% \n",
      "\n",
      "dask-core-2021.2.0   | 643 KB    |            |   0% \n",
      "dask-core-2021.2.0   | 643 KB    | ########## | 100% \n",
      "dask-core-2021.2.0   | 643 KB    | ########## | 100% \n",
      "\n",
      "libdeflate-1.7       | 49 KB     |            |   0% \n",
      "libdeflate-1.7       | 49 KB     | ########## | 100% \n",
      "\n",
      "lcms2-2.11           | 451 KB    |            |   0% \n",
      "lcms2-2.11           | 451 KB    | ########## | 100% \n",
      "\n",
      "cytoolz-0.11.0       | 279 KB    |            |   0% \n",
      "cytoolz-0.11.0       | 279 KB    | ########## | 100% \n",
      "cytoolz-0.11.0       | 279 KB    | ########## | 100% \n",
      "\n",
      "imagecodecs-2021.1.1 | 5.8 MB    |            |   0% \n",
      "imagecodecs-2021.1.1 | 5.8 MB    |            |   0% \n",
      "imagecodecs-2021.1.1 | 5.8 MB    | ########## | 100% \n",
      "imagecodecs-2021.1.1 | 5.8 MB    | ########## | 100% \n",
      "\n",
      "scikit-image-0.17.2  | 8.8 MB    |            |   0% \n",
      "scikit-image-0.17.2  | 8.8 MB    | ########## | 100% \n",
      "scikit-image-0.17.2  | 8.8 MB    | ########## | 100% \n",
      "\n",
      "toolz-0.11.1         | 46 KB     |            |   0% \n",
      "toolz-0.11.1         | 46 KB     | ########## | 100% \n",
      "Preparing transaction: ...working... done\n",
      "Verifying transaction: ...working... done\n",
      "Executing transaction: ...working... done\n"
     ]
    }
   ],
   "source": [
    "!conda install -y scikit-learn scikit-image"
   ]
  },
  {
   "cell_type": "code",
   "execution_count": 2,
   "id": "honey-czech",
   "metadata": {},
   "outputs": [],
   "source": [
    "%matplotlib inline"
   ]
  },
  {
   "cell_type": "code",
   "execution_count": 3,
   "id": "large-madagascar",
   "metadata": {},
   "outputs": [],
   "source": [
    "import numpy as np\n",
    "import pandas as pd\n",
    "from numpy.random import rand\n",
    "pd.options.display.max_colwidth = 800"
   ]
  },
  {
   "cell_type": "code",
   "execution_count": 5,
   "id": "attached-basin",
   "metadata": {},
   "outputs": [],
   "source": [
    "from sklearn import preprocessing\n",
    "from sklearn.metrics import roc_curve, auc, precision_recall_curve\n",
    "from sklearn.model_selection import train_test_split"
   ]
  },
  {
   "cell_type": "code",
   "execution_count": 6,
   "id": "sweet-austria",
   "metadata": {},
   "outputs": [],
   "source": [
    "import matplotlib.pyplot as plt\n",
    "from IPython.display import display, HTML\n",
    "import warnings\n",
    "warnings.filterwarnings('ignore')"
   ]
  },
  {
   "cell_type": "code",
   "execution_count": 9,
   "id": "floral-america",
   "metadata": {},
   "outputs": [],
   "source": [
    "import tensorflow as tf\n",
    "from tensorflow.keras import callbacks\n",
    "from tensorflow.keras import optimizers\n",
    "from tensorflow.keras.datasets import cifar10\n",
    "from tensorflow.keras import Model\n",
    "from tensorflow.keras.applications import vgg16 as vgg\n",
    "from tensorflow.keras.layers import Dropout, Flatten, Dense, \\\n",
    "                        GlobalAveragePooling2D, BatchNormalization\n",
    "from tensorflow.keras.preprocessing.image import ImageDataGenerator\n",
    "from tensorflow.python.keras.utils import np_utils"
   ]
  },
  {
   "cell_type": "code",
   "execution_count": 10,
   "id": "favorite-mississippi",
   "metadata": {},
   "outputs": [],
   "source": [
    "BATCH_SIZE = 32\n",
    "NUM_CLASSES = 10\n",
    "EPOCHS = 25\n",
    "INPUT_SHAPE = (32, 32, 3)\n",
    "LEARNING_RATE = 1e-4\n",
    "MOMENTUM = 0.9"
   ]
  },
  {
   "cell_type": "code",
   "execution_count": 12,
   "id": "military-process",
   "metadata": {},
   "outputs": [],
   "source": [
    "(x_train, y_train), (x_test, y_test) = cifar10.load_data()"
   ]
  },
  {
   "cell_type": "code",
   "execution_count": 13,
   "id": "arbitrary-landscape",
   "metadata": {},
   "outputs": [],
   "source": [
    "X_train, X_val, y_train, y_val = train_test_split(x_train, y_train,\n",
    "                                                 test_size=0.15,\n",
    "                                                 stratify=np.array(y_train),\n",
    "                                                 random_state=42)"
   ]
  },
  {
   "cell_type": "code",
   "execution_count": 14,
   "id": "combined-checklist",
   "metadata": {},
   "outputs": [],
   "source": [
    "Y_train = np_utils.to_categorical(y_train, NUM_CLASSES)\n",
    "Y_val = np_utils.to_categorical(y_val, NUM_CLASSES)\n",
    "Y_test = np_utils.to_categorical(y_test, NUM_CLASSES)"
   ]
  },
  {
   "cell_type": "markdown",
   "id": "extreme-upset",
   "metadata": {},
   "source": [
    "## 전처리\n",
    "VGG16 입력 사이즈 48 X 48"
   ]
  },
  {
   "cell_type": "code",
   "execution_count": 25,
   "id": "theoretical-latvia",
   "metadata": {},
   "outputs": [],
   "source": [
    "from skimage.transform import resize\n",
    "X_train = np.array([resize(x, (48, 48)) for x in X_train])\n",
    "X_val = np.array([resize(x, (48, 48)) for x in X_val])\n",
    "X_test = np.array([resize(x, (48, 48)) for x in x_test])"
   ]
  },
  {
   "cell_type": "markdown",
   "id": "thousand-dover",
   "metadata": {},
   "source": [
    "## 모델 준비\n",
    "- 최상위층 없이 VGG16 로딩  \n",
    "- 커스텀 분류기 준비  \n",
    "- 모델의 맨 위에 새로운 층 쌓기  "
   ]
  },
  {
   "cell_type": "code",
   "execution_count": 26,
   "id": "convenient-softball",
   "metadata": {},
   "outputs": [],
   "source": [
    "base_model = vgg.VGG16(weights = 'imagenet', include_top=False, \n",
    "                      input_shape=(48, 48, 3))"
   ]
  },
  {
   "cell_type": "code",
   "execution_count": 28,
   "id": "regional-bankruptcy",
   "metadata": {},
   "outputs": [
    {
     "name": "stdout",
     "output_type": "stream",
     "text": [
      "Model: \"vgg16\"\n",
      "_________________________________________________________________\n",
      "Layer (type)                 Output Shape              Param #   \n",
      "=================================================================\n",
      "input_1 (InputLayer)         [(None, 48, 48, 3)]       0         \n",
      "_________________________________________________________________\n",
      "block1_conv1 (Conv2D)        (None, 48, 48, 64)        1792      \n",
      "_________________________________________________________________\n",
      "block1_conv2 (Conv2D)        (None, 48, 48, 64)        36928     \n",
      "_________________________________________________________________\n",
      "block1_pool (MaxPooling2D)   (None, 24, 24, 64)        0         \n",
      "_________________________________________________________________\n",
      "block2_conv1 (Conv2D)        (None, 24, 24, 128)       73856     \n",
      "_________________________________________________________________\n",
      "block2_conv2 (Conv2D)        (None, 24, 24, 128)       147584    \n",
      "_________________________________________________________________\n",
      "block2_pool (MaxPooling2D)   (None, 12, 12, 128)       0         \n",
      "_________________________________________________________________\n",
      "block3_conv1 (Conv2D)        (None, 12, 12, 256)       295168    \n",
      "_________________________________________________________________\n",
      "block3_conv2 (Conv2D)        (None, 12, 12, 256)       590080    \n",
      "_________________________________________________________________\n",
      "block3_conv3 (Conv2D)        (None, 12, 12, 256)       590080    \n",
      "_________________________________________________________________\n",
      "block3_pool (MaxPooling2D)   (None, 6, 6, 256)         0         \n",
      "_________________________________________________________________\n",
      "block4_conv1 (Conv2D)        (None, 6, 6, 512)         1180160   \n",
      "_________________________________________________________________\n",
      "block4_conv2 (Conv2D)        (None, 6, 6, 512)         2359808   \n",
      "_________________________________________________________________\n",
      "block4_conv3 (Conv2D)        (None, 6, 6, 512)         2359808   \n",
      "_________________________________________________________________\n",
      "block4_pool (MaxPooling2D)   (None, 3, 3, 512)         0         \n",
      "_________________________________________________________________\n",
      "block5_conv1 (Conv2D)        (None, 3, 3, 512)         2359808   \n",
      "_________________________________________________________________\n",
      "block5_conv2 (Conv2D)        (None, 3, 3, 512)         2359808   \n",
      "_________________________________________________________________\n",
      "block5_conv3 (Conv2D)        (None, 3, 3, 512)         2359808   \n",
      "_________________________________________________________________\n",
      "block5_pool (MaxPooling2D)   (None, 1, 1, 512)         0         \n",
      "=================================================================\n",
      "Total params: 14,714,688\n",
      "Trainable params: 14,714,688\n",
      "Non-trainable params: 0\n",
      "_________________________________________________________________\n"
     ]
    }
   ],
   "source": [
    "base_model.summary()"
   ]
  },
  {
   "cell_type": "markdown",
   "id": "sustainable-wheel",
   "metadata": {},
   "source": [
    "분류층만 훈련시키는 것, 훈련할 수 있는 파라미터 세팅을 False로 해서 나머지 층을 동결.  \n",
    "한습된 가중치를 한 도메인에서 다른 도메인으로 전이 할 수있다."
   ]
  },
  {
   "cell_type": "code",
   "execution_count": 29,
   "id": "stock-flashing",
   "metadata": {},
   "outputs": [],
   "source": [
    "# VGG16 모델의 세번째 블록에서 마지막 층 추출\n",
    "last = base_model.get_layer('block3_pool').output"
   ]
  },
  {
   "cell_type": "code",
   "execution_count": 31,
   "id": "textile-darwin",
   "metadata": {},
   "outputs": [],
   "source": [
    "# 상위 층에 분류층 추가\n",
    "x = GlobalAveragePooling2D()(last)\n",
    "x = BatchNormalization()(x)\n",
    "x = Dense(256, activation='relu')(x)\n",
    "x = Dense(256, activation='relu')(x)\n",
    "x = Dropout(0.6)(x)\n",
    "pred = Dense(NUM_CLASSES, activation='softmax')(x)\n",
    "model = Model(base_model.input, pred)"
   ]
  },
  {
   "cell_type": "code",
   "execution_count": 32,
   "id": "common-halifax",
   "metadata": {},
   "outputs": [
    {
     "name": "stdout",
     "output_type": "stream",
     "text": [
      "Model: \"model\"\n",
      "_________________________________________________________________\n",
      "Layer (type)                 Output Shape              Param #   \n",
      "=================================================================\n",
      "input_1 (InputLayer)         [(None, 48, 48, 3)]       0         \n",
      "_________________________________________________________________\n",
      "block1_conv1 (Conv2D)        (None, 48, 48, 64)        1792      \n",
      "_________________________________________________________________\n",
      "block1_conv2 (Conv2D)        (None, 48, 48, 64)        36928     \n",
      "_________________________________________________________________\n",
      "block1_pool (MaxPooling2D)   (None, 24, 24, 64)        0         \n",
      "_________________________________________________________________\n",
      "block2_conv1 (Conv2D)        (None, 24, 24, 128)       73856     \n",
      "_________________________________________________________________\n",
      "block2_conv2 (Conv2D)        (None, 24, 24, 128)       147584    \n",
      "_________________________________________________________________\n",
      "block2_pool (MaxPooling2D)   (None, 12, 12, 128)       0         \n",
      "_________________________________________________________________\n",
      "block3_conv1 (Conv2D)        (None, 12, 12, 256)       295168    \n",
      "_________________________________________________________________\n",
      "block3_conv2 (Conv2D)        (None, 12, 12, 256)       590080    \n",
      "_________________________________________________________________\n",
      "block3_conv3 (Conv2D)        (None, 12, 12, 256)       590080    \n",
      "_________________________________________________________________\n",
      "block3_pool (MaxPooling2D)   (None, 6, 6, 256)         0         \n",
      "_________________________________________________________________\n",
      "global_average_pooling2d (Gl (None, 256)               0         \n",
      "_________________________________________________________________\n",
      "batch_normalization (BatchNo (None, 256)               1024      \n",
      "_________________________________________________________________\n",
      "dense (Dense)                (None, 256)               65792     \n",
      "_________________________________________________________________\n",
      "dense_1 (Dense)              (None, 256)               65792     \n",
      "_________________________________________________________________\n",
      "dropout (Dropout)            (None, 256)               0         \n",
      "_________________________________________________________________\n",
      "dense_2 (Dense)              (None, 10)                2570      \n",
      "=================================================================\n",
      "Total params: 1,870,666\n",
      "Trainable params: 1,870,154\n",
      "Non-trainable params: 512\n",
      "_________________________________________________________________\n"
     ]
    }
   ],
   "source": [
    "model.summary()"
   ]
  },
  {
   "cell_type": "markdown",
   "id": "advisory-checkout",
   "metadata": {},
   "source": [
    "## 커스텀 분류기만(전결합층만) 훈련시킬 것이다, VGG16 모델에서 가져온 부분은 동결."
   ]
  },
  {
   "cell_type": "code",
   "execution_count": 33,
   "id": "friendly-vancouver",
   "metadata": {},
   "outputs": [],
   "source": [
    "for layer in base_model.layers:\n",
    "    layer.trainable = False"
   ]
  },
  {
   "cell_type": "code",
   "execution_count": 34,
   "id": "nervous-magazine",
   "metadata": {},
   "outputs": [],
   "source": [
    "model.compile(loss='binary_crossentropy',\n",
    "             optimizer=optimizers.Adam(lr=LEARNING_RATE),\n",
    "             metrics=['accuracy'])"
   ]
  },
  {
   "cell_type": "code",
   "execution_count": 35,
   "id": "linear-works",
   "metadata": {},
   "outputs": [
    {
     "name": "stdout",
     "output_type": "stream",
     "text": [
      "Model: \"model\"\n",
      "_________________________________________________________________\n",
      "Layer (type)                 Output Shape              Param #   \n",
      "=================================================================\n",
      "input_1 (InputLayer)         [(None, 48, 48, 3)]       0         \n",
      "_________________________________________________________________\n",
      "block1_conv1 (Conv2D)        (None, 48, 48, 64)        1792      \n",
      "_________________________________________________________________\n",
      "block1_conv2 (Conv2D)        (None, 48, 48, 64)        36928     \n",
      "_________________________________________________________________\n",
      "block1_pool (MaxPooling2D)   (None, 24, 24, 64)        0         \n",
      "_________________________________________________________________\n",
      "block2_conv1 (Conv2D)        (None, 24, 24, 128)       73856     \n",
      "_________________________________________________________________\n",
      "block2_conv2 (Conv2D)        (None, 24, 24, 128)       147584    \n",
      "_________________________________________________________________\n",
      "block2_pool (MaxPooling2D)   (None, 12, 12, 128)       0         \n",
      "_________________________________________________________________\n",
      "block3_conv1 (Conv2D)        (None, 12, 12, 256)       295168    \n",
      "_________________________________________________________________\n",
      "block3_conv2 (Conv2D)        (None, 12, 12, 256)       590080    \n",
      "_________________________________________________________________\n",
      "block3_conv3 (Conv2D)        (None, 12, 12, 256)       590080    \n",
      "_________________________________________________________________\n",
      "block3_pool (MaxPooling2D)   (None, 6, 6, 256)         0         \n",
      "_________________________________________________________________\n",
      "global_average_pooling2d (Gl (None, 256)               0         \n",
      "_________________________________________________________________\n",
      "batch_normalization (BatchNo (None, 256)               1024      \n",
      "_________________________________________________________________\n",
      "dense (Dense)                (None, 256)               65792     \n",
      "_________________________________________________________________\n",
      "dense_1 (Dense)              (None, 256)               65792     \n",
      "_________________________________________________________________\n",
      "dropout (Dropout)            (None, 256)               0         \n",
      "_________________________________________________________________\n",
      "dense_2 (Dense)              (None, 10)                2570      \n",
      "=================================================================\n",
      "Total params: 1,870,666\n",
      "Trainable params: 134,666\n",
      "Non-trainable params: 1,736,000\n",
      "_________________________________________________________________\n"
     ]
    }
   ],
   "source": [
    "model.summary()"
   ]
  },
  {
   "cell_type": "code",
   "execution_count": 36,
   "id": "cardiac-history",
   "metadata": {},
   "outputs": [],
   "source": [
    "# 데이터 늘리기\n",
    "train_datagen = ImageDataGenerator(rescale=1 / 255.,\n",
    "                                  horizontal_flip=False)"
   ]
  },
  {
   "cell_type": "code",
   "execution_count": 37,
   "id": "nuclear-french",
   "metadata": {},
   "outputs": [],
   "source": [
    "train_datagen.fit(X_train)\n",
    "train_generator = train_datagen.flow(X_train, Y_train, \n",
    "                                    batch_size=BATCH_SIZE)"
   ]
  },
  {
   "cell_type": "code",
   "execution_count": 39,
   "id": "adequate-culture",
   "metadata": {},
   "outputs": [],
   "source": [
    "val_datagen = ImageDataGenerator(rescale=1/255.,\n",
    "                                 horizontal_flip=False)\n",
    "val_datagen.fit(X_val)\n",
    "val_generator = val_datagen.flow(X_val, Y_val,\n",
    "                                batch_size=BATCH_SIZE)"
   ]
  },
  {
   "cell_type": "markdown",
   "id": "fossil-fields",
   "metadata": {},
   "source": [
    "## 모델 훈련\n",
    "새로 추가된 층을 훈련시키기 위한 fti_generatir()함수를 호출"
   ]
  },
  {
   "cell_type": "code",
   "execution_count": null,
   "id": "technical-invite",
   "metadata": {},
   "outputs": [
    {
     "name": "stdout",
     "output_type": "stream",
     "text": [
      "Epoch 1/25\n",
      "1328/1328 [==============================] - 137s 102ms/step - loss: 0.3831 - accuracy: 0.2088 - val_loss: 0.2426 - val_accuracy: 0.4611\n",
      "Epoch 2/25\n",
      "1328/1328 [==============================] - 138s 104ms/step - loss: 0.2568 - accuracy: 0.4035 - val_loss: 0.2203 - val_accuracy: 0.5087\n",
      "Epoch 3/25\n",
      "1328/1328 [==============================] - 138s 104ms/step - loss: 0.2347 - accuracy: 0.4729 - val_loss: 0.2085 - val_accuracy: 0.5406\n",
      "Epoch 4/25\n",
      "1328/1328 [==============================] - 138s 104ms/step - loss: 0.2211 - accuracy: 0.5041 - val_loss: 0.2007 - val_accuracy: 0.5610\n",
      "Epoch 5/25\n",
      "1328/1328 [==============================] - 138s 104ms/step - loss: 0.2146 - accuracy: 0.5231 - val_loss: 0.1946 - val_accuracy: 0.5740\n",
      "Epoch 6/25\n",
      "1328/1328 [==============================] - 138s 104ms/step - loss: 0.2074 - accuracy: 0.5442 - val_loss: 0.1906 - val_accuracy: 0.5807\n",
      "Epoch 7/25\n",
      "1328/1328 [==============================] - 139s 105ms/step - loss: 0.2030 - accuracy: 0.5549 - val_loss: 0.1863 - val_accuracy: 0.5925\n",
      "Epoch 8/25\n",
      "1328/1328 [==============================] - 138s 104ms/step - loss: 0.1980 - accuracy: 0.5664 - val_loss: 0.1827 - val_accuracy: 0.6016\n",
      "Epoch 9/25\n",
      "1328/1328 [==============================] - 139s 105ms/step - loss: 0.1943 - accuracy: 0.5753 - val_loss: 0.1802 - val_accuracy: 0.6032\n",
      "Epoch 10/25\n",
      "1028/1328 [======================>.......] - ETA: 26s - loss: 0.1915 - accuracy: 0.5867"
     ]
    }
   ],
   "source": [
    "train_steps_per_epoch = X_train.shape[0] // BATCH_SIZE\n",
    "val_steps_per_epoch = X_val.shape[0] // BATCH_SIZE\n",
    "history = model.fit_generator(train_generator,\n",
    "                             steps_per_epoch = train_steps_per_epoch,\n",
    "                             validation_data=val_generator,\n",
    "                             validation_steps=val_steps_per_epoch,\n",
    "                             epochs=EPOCHS,\n",
    "                             verbose=1)"
   ]
  },
  {
   "cell_type": "markdown",
   "id": "congressional-balance",
   "metadata": {},
   "source": [
    "## 모델 성능 분석"
   ]
  },
  {
   "cell_type": "code",
   "execution_count": null,
   "id": "placed-packaging",
   "metadata": {},
   "outputs": [],
   "source": [
    "f, (ax1, ax2) = plt.subplot(1, 2, figsize=(15, 5))\n",
    "t = f.sumtitle('Deep Neural Net Performance', fontsize=12)\n",
    "f.subplots_adjust(top=0.85, wspace=0.3)"
   ]
  },
  {
   "cell_type": "code",
   "execution_count": null,
   "id": "appointed-bangladesh",
   "metadata": {},
   "outputs": [],
   "source": [
    "epochs = list(range(1, EPOCHs+1))\n",
    "ax1.plot(epochs, history.history['accuracy'], label='Train Accuracy')\n",
    "ax1.plot(epochs, history.history['val_accuracy'], label='Validation Accuracy')\n",
    "ax1.set_xticks(epochs)\n",
    "ax1.set_yticks('Accuracy Value')\n",
    "ax1.set_xlabel('Epochs')\n",
    "ax1.set_ylabel('Accuracy')\n",
    "l1 = ax1.legend(loc='best')\n",
    "\n",
    "ax2.plot(epochs, history.history['loss'], label='Train Loss')\n",
    "ax2.plot(epochs, history.history['val_loss'], label='Validation Loss')\n",
    "ax2.set_xticks(epochs)\n",
    "ax2.set_yticks('Loss Value')\n",
    "ax2.set_xlabel('Epochs')\n",
    "ax2.set_ylabel('Loss')\n",
    "l2 = ax2.legend(loc='best')"
   ]
  },
  {
   "cell_type": "code",
   "execution_count": null,
   "id": "dietary-brazil",
   "metadata": {},
   "outputs": [],
   "source": [
    "predictions = model.predict(X_test)"
   ]
  },
  {
   "cell_type": "code",
   "execution_count": null,
   "id": "alpha-celebrity",
   "metadata": {},
   "outputs": [],
   "source": [
    "test_labels = list(y_test.squeeze())\n",
    "predictions = list(predictions.argmax(axis=1))"
   ]
  },
  {
   "cell_type": "markdown",
   "id": "covered-psychology",
   "metadata": {},
   "source": [
    "## 예측 시각화"
   ]
  },
  {
   "cell_type": "code",
   "execution_count": null,
   "id": "knowing-wrist",
   "metadata": {},
   "outputs": [],
   "source": [
    "def make_prediction(model=None,img_vector=[],\n",
    "                    label_dict={},top_N=3, \n",
    "                    model_input_shape=None):\n",
    "    if model:\n",
    "        # get model input shape\n",
    "        if not model_input_shape:\n",
    "            model_input_shape = (1,)+model.get_input_shape_at(0)[1:]\n",
    "            \n",
    "        # get prediction\n",
    "        prediction = model.predict(img_vector.reshape(model_input_shape))[0]\n",
    "        \n",
    "        \n",
    "        # get top N with confidence\n",
    "        labels_predicted = [label_dict[idx] for idx in np.argsort(prediction)[::-1][:top_N]]\n",
    "        confidence_predicted = np.sort(prediction)[::-1][:top_N]\n",
    "        \n",
    "        return labels_predicted, confidence_predicted\n",
    "\n",
    "def plot_predictions(model,dataset,dataset_labels,label_dict,\n",
    "                    batch_size,grid_height,grid_width):\n",
    "    if model:\n",
    "        f, ax = plt.subplots(grid_width, grid_height)\n",
    "        f.set_size_inches(12, 12)\n",
    "        random_batch_indx = np.random.permutation(np.arange(0,len(dataset)))[:batch_size]\n",
    "        img_idx = 0\n",
    "        for i in range(0, grid_width):\n",
    "            for j in range(0, grid_height):\n",
    "                actual_label = label_dict.get(dataset_labels[random_batch_indx[img_idx]].argmax())\n",
    "                preds,confs_ = make_prediction(model,\n",
    "                                              img_vector=dataset[random_batch_indx[img_idx]],\n",
    "                                              label_dict=label_dict,\n",
    "                                              top_N=1,\n",
    "                                              model_input_shape=(1,48,48,3))\n",
    "                ax[i][j].axis('off')\n",
    "                ax[i][j].set_title('Actual:'+actual_label[:10]+\\\n",
    "                                    '\\nPredicted:'+preds[0] + \\\n",
    "                                    '(' +str(round(confs_[0],2)) + ')')\n",
    "                ax[i][j].imshow(dataset[random_batch_indx[img_idx]])\n",
    "                img_idx += 1\n",
    "        plt.subplots_adjust(left=0, bottom=0, right=1, \n",
    "                            top=1, wspace=0.4, hspace=0.55)  "
   ]
  },
  {
   "cell_type": "code",
   "execution_count": null,
   "id": "hundred-graphic",
   "metadata": {},
   "outputs": [],
   "source": [
    "label_dict = {0:'airplane',\n",
    "             1:'automobile',\n",
    "             2:'bird',\n",
    "             3:'cat',\n",
    "             4:'deer',\n",
    "             5:'dog',\n",
    "             6:'frog',\n",
    "             7:'horse',\n",
    "             8:'ship',\n",
    "             9:'truck'}"
   ]
  },
  {
   "cell_type": "code",
   "execution_count": null,
   "id": "endless-blond",
   "metadata": {},
   "outputs": [],
   "source": [
    "plot_predictions(model=model,dataset=X_test,\n",
    "                       dataset_labels=Y_test,\n",
    "                       label_dict=label_dict,\n",
    "                       batch_size=BATCH_SIZE,\n",
    "                       grid_height=5,\n",
    "                       grid_width=5)"
   ]
  }
 ],
 "metadata": {
  "kernelspec": {
   "display_name": "Python 3",
   "language": "python",
   "name": "python3"
  },
  "language_info": {
   "codemirror_mode": {
    "name": "ipython",
    "version": 3
   },
   "file_extension": ".py",
   "mimetype": "text/x-python",
   "name": "python",
   "nbconvert_exporter": "python",
   "pygments_lexer": "ipython3",
   "version": "3.7.9"
  }
 },
 "nbformat": 4,
 "nbformat_minor": 5
}
