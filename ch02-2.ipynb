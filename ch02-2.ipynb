{
 "cells": [
  {
   "cell_type": "code",
   "execution_count": 1,
   "id": "pregnant-intake",
   "metadata": {},
   "outputs": [],
   "source": [
    "import warnings\n",
    "warnings.filterwarnings(action='ignore')"
   ]
  },
  {
   "cell_type": "code",
   "execution_count": 2,
   "id": "raised-verification",
   "metadata": {},
   "outputs": [],
   "source": [
    "import tensorflow as tf\n",
    "from tensorflow.examples.tutorials.mnist import input_data"
   ]
  },
  {
   "cell_type": "code",
   "execution_count": null,
   "id": "colored-trace",
   "metadata": {},
   "outputs": [],
   "source": [
    "mnist_data = input_data.read_data_sets('MNIST_data', one_hot=True)"
   ]
  },
  {
   "cell_type": "code",
   "execution_count": 6,
   "id": "terminal-henry",
   "metadata": {},
   "outputs": [],
   "source": [
    "input_size = 784\n",
    "no_classes = 10\n",
    "batch_size = 100\n",
    "total_batches = 200"
   ]
  },
  {
   "cell_type": "code",
   "execution_count": 7,
   "id": "involved-digest",
   "metadata": {},
   "outputs": [],
   "source": [
    "x_input = tf.placeholder(tf.float32, shape=[None, input_size])\n",
    "y_input = tf.placeholder(tf.float32, shape=[None, no_classes])"
   ]
  },
  {
   "cell_type": "code",
   "execution_count": 24,
   "id": "radio-minister",
   "metadata": {},
   "outputs": [],
   "source": [
    "def add_variable_summary(tf_variable, summary_name):\n",
    "    with tf.name_scope(summary_name + '_summary'):\n",
    "        mean = tf.reduce_mean(tf_variable)\n",
    "        tf.summary.scalar('Mena', mean)\n",
    "        with tf.name_scope('standard_deviation'):\n",
    "            standard_deviation = tf.sqrt(tf.reduce_mean(tf.sqrt(tf_variable - mean)))\n",
    "        tf.summary.scalar('StandardDeviation', standard_deviation)\n",
    "        tf.summary.scalar('Maximum', tf.reduce_max(tf_variable))\n",
    "        tf.summary.scalar('Minium', tf.reduce_mean(tf_variable))\n",
    "        tf.summary.histogram('Histogram', tf_variable)"
   ]
  },
  {
   "cell_type": "code",
   "execution_count": 25,
   "id": "applied-advantage",
   "metadata": {},
   "outputs": [],
   "source": [
    "x_input_reshape = tf.reshape(x_input, [-1, 28, 28, 1], name='input_reshape')"
   ]
  },
  {
   "cell_type": "code",
   "execution_count": 26,
   "id": "important-victoria",
   "metadata": {},
   "outputs": [
    {
     "data": {
      "text/plain": [
       "TensorShape([Dimension(None), Dimension(28), Dimension(28), Dimension(1)])"
      ]
     },
     "execution_count": 26,
     "metadata": {},
     "output_type": "execute_result"
    }
   ],
   "source": [
    "x_input_reshape.shape"
   ]
  },
  {
   "cell_type": "code",
   "execution_count": 27,
   "id": "southern-oxygen",
   "metadata": {},
   "outputs": [],
   "source": [
    "def convalution_layer(input_layer, filters, kernel_size=[3,3], activation=tf.nn.relu):\n",
    "    layer = tf.layers.conv2d(inputs=input_layer, \n",
    "                             filters=filters, \n",
    "                             kernel_size=kernel_size,\n",
    "                             activation=activation)\n",
    "    add_variable_summary(layer, 'convolution')\n",
    "    return layer"
   ]
  },
  {
   "cell_type": "code",
   "execution_count": 28,
   "id": "optimum-fundamentals",
   "metadata": {},
   "outputs": [],
   "source": [
    "def pooling_layer(input_layer, pool_size=[2, 2], strides=2):\n",
    "    layer = tf.layers.max_pooling2d(inputs=input_layer,\n",
    "                                   pool_size=pool_size,\n",
    "                                   strides=strides)\n",
    "    add_variable_summary(layer, 'pooling')\n",
    "    return layer"
   ]
  },
  {
   "cell_type": "code",
   "execution_count": 29,
   "id": "bizarre-spyware",
   "metadata": {},
   "outputs": [],
   "source": [
    "def dense_layer(input_layer, units, activation=tf.nn.relu):\n",
    "    layer = tf.layers.dense(inputs=input_layer,\n",
    "                            units=units,\n",
    "                            activation=activation)\n",
    "    add_variable_summary(layer, 'dense')\n",
    "    return layer"
   ]
  },
  {
   "cell_type": "code",
   "execution_count": 30,
   "id": "collective-floating",
   "metadata": {},
   "outputs": [
    {
     "name": "stdout",
     "output_type": "stream",
     "text": [
      "WARNING:tensorflow:From <ipython-input-28-a65c6f192c2f>:4: max_pooling2d (from tensorflow.python.layers.pooling) is deprecated and will be removed in a future version.\n",
      "Instructions for updating:\n",
      "Use keras.layers.MaxPooling2D instead.\n",
      "WARNING:tensorflow:From <ipython-input-29-8f61ae36fbff>:4: dense (from tensorflow.python.layers.core) is deprecated and will be removed in a future version.\n",
      "Instructions for updating:\n",
      "Use keras.layers.Dense instead.\n"
     ]
    }
   ],
   "source": [
    "convlution_layer_1 = convalution_layer(x_input_reshape, 64)\n",
    "pooling_layer_1 = pooling_layer(convlution_layer_1)\n",
    "convalution_layer_2 = convalution_layer(pooling_layer_1, 128)\n",
    "pooling_layer_2 = pooling_layer(convalution_layer_2)\n",
    "\n",
    "flattend_pool = tf.reshape(pooling_layer_2, [-1, 5 * 5 * 128], name='flattend_pool')\n",
    "dense_layer_bottleneck = dense_layer(flattend_pool, 1024)"
   ]
  },
  {
   "cell_type": "code",
   "execution_count": 31,
   "id": "rolled-connectivity",
   "metadata": {},
   "outputs": [
    {
     "name": "stdout",
     "output_type": "stream",
     "text": [
      "WARNING:tensorflow:From <ipython-input-31-9550d840b8ea>:4: dropout (from tensorflow.python.layers.core) is deprecated and will be removed in a future version.\n",
      "Instructions for updating:\n",
      "Use keras.layers.dropout instead.\n"
     ]
    }
   ],
   "source": [
    "dropout_bool = tf.placeholder(tf.bool)\n",
    "dropout_layer = tf.layers.dropout(inputs=dense_layer_bottleneck,\n",
    "                                 rate=0.4,\n",
    "                                 training=dropout_bool)"
   ]
  },
  {
   "cell_type": "code",
   "execution_count": 32,
   "id": "exclusive-printer",
   "metadata": {},
   "outputs": [],
   "source": [
    "logits = dense_layer(dropout_layer, no_classes)"
   ]
  },
  {
   "cell_type": "code",
   "execution_count": 34,
   "id": "built-valentine",
   "metadata": {},
   "outputs": [
    {
     "name": "stdout",
     "output_type": "stream",
     "text": [
      "WARNING:tensorflow:From <ipython-input-34-c8607c1495a2>:2: softmax_cross_entropy_with_logits (from tensorflow.python.ops.nn_ops) is deprecated and will be removed in a future version.\n",
      "Instructions for updating:\n",
      "\n",
      "Future major versions of TensorFlow will allow gradients to flow\n",
      "into the labels input on backprop by default.\n",
      "\n",
      "See `tf.nn.softmax_cross_entropy_with_logits_v2`.\n",
      "\n"
     ]
    }
   ],
   "source": [
    "with tf.name_scope('loss'):\n",
    "    softmax_cross_entropy = tf.nn.softmax_cross_entropy_with_logits(labels=y_input, logits=logits)\n",
    "    loss_operation = tf.reduce_mean(softmax_cross_entropy, name='loss')\n",
    "    tf.summary.scalar('loss', loss_operation)"
   ]
  },
  {
   "cell_type": "code",
   "execution_count": 35,
   "id": "fundamental-dollar",
   "metadata": {},
   "outputs": [],
   "source": [
    "with tf.name_scope('optimiser'):\n",
    "    optimiser = tf.train.AdamOptimizer().minimize(loss_operation)"
   ]
  },
  {
   "cell_type": "code",
   "execution_count": 36,
   "id": "common-awareness",
   "metadata": {},
   "outputs": [],
   "source": [
    "with tf.name_scope('accuracy'):\n",
    "    with tf.name_scope('correct_prediction'):\n",
    "        predictions = tf.argmax(logits, 1)\n",
    "        correct_predictions = tf.equal(predictions, tf.argmax(y_input, 1))\n",
    "    with tf.name_scope('accuracy'):\n",
    "        accuracy_operation = tf.reduce_mean(tf.cast(correct_predictions, tf.float32))"
   ]
  },
  {
   "cell_type": "code",
   "execution_count": 37,
   "id": "selected-ocean",
   "metadata": {},
   "outputs": [
    {
     "data": {
      "text/plain": [
       "<tf.Tensor 'accuracy_1:0' shape=() dtype=string>"
      ]
     },
     "execution_count": 37,
     "metadata": {},
     "output_type": "execute_result"
    }
   ],
   "source": [
    "tf.summary.scalar('accuracy', accuracy_operation)"
   ]
  },
  {
   "cell_type": "code",
   "execution_count": 39,
   "id": "increasing-barcelona",
   "metadata": {},
   "outputs": [],
   "source": [
    "session = tf.Session()\n",
    "session.run(tf.global_variables_initializer())"
   ]
  },
  {
   "cell_type": "code",
   "execution_count": 40,
   "id": "cellular-yacht",
   "metadata": {},
   "outputs": [],
   "source": [
    "merged_summary_operation = tf.summary.merge_all()\n",
    "train_summary_writer = tf.summary.FileWriter('./train', session.graph)\n",
    "test_summary_writer = tf.summary.FileWriter('./test')"
   ]
  },
  {
   "cell_type": "code",
   "execution_count": 41,
   "id": "superb-creator",
   "metadata": {},
   "outputs": [],
   "source": [
    "test_images, test_labels = mnist_data.test.images, mnist_data.test.labels"
   ]
  },
  {
   "cell_type": "code",
   "execution_count": 43,
   "id": "twelve-supervisor",
   "metadata": {},
   "outputs": [],
   "source": [
    "for batch_no in range(total_batches):\n",
    "    mnist_batch = mnist_data.train.next_batch(batch_size)\n",
    "    train_images, train_labels = mnist_batch[0], mnist_batch[1]\n",
    "    _, merged_summary = session.run([optimiser, merged_summary_operation],\n",
    "                                   feed_dict={\n",
    "                                       x_input: train_images,\n",
    "                                       y_input: train_labels,\n",
    "                                       dropout_bool: True\n",
    "                                   })\n",
    "    train_summary_writer.add_summary(merged_summary, batch_no)\n",
    "    if batch_no % 10 == 0:\n",
    "        merged_summary, _ = session.run([merged_summary_operation, accuracy_operation],\n",
    "                                       feed_dict={\n",
    "                                           x_input: test_images,\n",
    "                                           y_input: test_labels,\n",
    "                                           dropout_bool: False\n",
    "                                       })\n",
    "        test_summary_writer.add_summary(merged_summary, batch_no)"
   ]
  },
  {
   "cell_type": "code",
   "execution_count": 44,
   "id": "proper-female",
   "metadata": {},
   "outputs": [
    {
     "name": "stdout",
     "output_type": "stream",
     "text": [
      "^C\n"
     ]
    }
   ],
   "source": [
    "!tensorboard --logdir=./train"
   ]
  },
  {
   "cell_type": "code",
   "execution_count": null,
   "id": "tutorial-reference",
   "metadata": {},
   "outputs": [],
   "source": []
  }
 ],
 "metadata": {
  "kernelspec": {
   "display_name": "Python 3",
   "language": "python",
   "name": "python3"
  },
  "language_info": {
   "codemirror_mode": {
    "name": "ipython",
    "version": 3
   },
   "file_extension": ".py",
   "mimetype": "text/x-python",
   "name": "python",
   "nbconvert_exporter": "python",
   "pygments_lexer": "ipython3",
   "version": "3.7.9"
  }
 },
 "nbformat": 4,
 "nbformat_minor": 5
}
