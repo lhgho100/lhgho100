{
 "cells": [
  {
   "cell_type": "markdown",
   "metadata": {},
   "source": [
    "# TensorFlow 2.0"
   ]
  },
  {
   "cell_type": "code",
   "execution_count": 1,
   "metadata": {},
   "outputs": [],
   "source": [
    "import os\n",
    "from glob import glob\n",
    "from datetime import datetime\n",
    "\n",
    "import numpy as np\n",
    "\n",
    "import tensorflow as tf\n",
    "from tensorflow.keras import layers\n",
    "\n",
    "from tensorflow.keras import datasets \n",
    "\n",
    "import matplotlib.pyplot as plt\n",
    "\n",
    "%load_ext tensorboard\n",
    "%matplotlib inline"
   ]
  },
  {
   "cell_type": "markdown",
   "metadata": {},
   "source": [
    "## Hyperparameter Tunning"
   ]
  },
  {
   "cell_type": "code",
   "execution_count": 2,
   "metadata": {},
   "outputs": [],
   "source": [
    "num_epochs = 5\n",
    "batch_size = 32\n",
    "\n",
    "learning_rate = 0.001\n",
    "\n",
    "dropout_rate = 0.5\n",
    "\n",
    "input_shape = (32, 32, 3)\n",
    "num_classes = 10"
   ]
  },
  {
   "cell_type": "markdown",
   "metadata": {},
   "source": [
    "## Build Model"
   ]
  },
  {
   "cell_type": "code",
   "execution_count": 3,
   "metadata": {},
   "outputs": [],
   "source": [
    "inputs = layers.Input(input_shape)\n",
    "\n",
    "net = layers.Conv2D(32, (3, 3), padding='SAME')(inputs)\n",
    "net = layers.Activation('relu')(net)\n",
    "net = layers.Conv2D(32, (3, 3), padding='SAME')(net)\n",
    "net = layers.Activation('relu')(net)\n",
    "net = layers.MaxPooling2D(pool_size=(2, 2))(net)\n",
    "net = layers.Dropout(dropout_rate)(net)\n",
    "\n",
    "net = layers.Conv2D(64, (3, 3), padding='SAME')(net)\n",
    "net = layers.Activation('relu')(net)\n",
    "net = layers.Conv2D(64, (3, 3), padding='SAME')(net)\n",
    "net = layers.Activation('relu')(net)\n",
    "net = layers.MaxPooling2D(pool_size=(2, 2))(net)\n",
    "net = layers.Dropout(dropout_rate)(net)\n",
    "\n",
    "net = layers.Flatten()(net)\n",
    "net = layers.Dense(512)(net)\n",
    "net = layers.Activation('relu')(net)\n",
    "net = layers.Dropout(dropout_rate)(net)\n",
    "net = layers.Dense(num_classes)(net)\n",
    "net = layers.Activation('softmax')(net)\n",
    "\n",
    "model = tf.keras.Model(inputs=inputs, outputs=net, name='Basic_CNN')"
   ]
  },
  {
   "cell_type": "code",
   "execution_count": 4,
   "metadata": {},
   "outputs": [],
   "source": [
    "# Model is the full model w/o custom layers\n",
    "model.compile(optimizer=tf.keras.optimizers.Adam(learning_rate),  # Optimization\n",
    "              loss='sparse_categorical_crossentropy',  # Loss Function \n",
    "              metrics=['accuracy'])  # Metrics / Accuracy"
   ]
  },
  {
   "cell_type": "markdown",
   "metadata": {},
   "source": [
    "# Data Preprocess"
   ]
  },
  {
   "cell_type": "code",
   "execution_count": 5,
   "metadata": {},
   "outputs": [],
   "source": [
    "train_paths = glob('dataset/cifar/train/*.png')[:100]\n",
    "test_paths = glob('dataset/cifar/test/*.png')[:100]"
   ]
  },
  {
   "cell_type": "code",
   "execution_count": 6,
   "metadata": {},
   "outputs": [],
   "source": [
    "def get_class_name(path):\n",
    "    return path.split('_')[-1].replace('.png', '')"
   ]
  },
  {
   "cell_type": "code",
   "execution_count": 7,
   "metadata": {},
   "outputs": [],
   "source": [
    "train_labels = [get_class_name(path) for path in train_paths]\n",
    "class_names = np.unique(train_labels)"
   ]
  },
  {
   "cell_type": "code",
   "execution_count": 8,
   "metadata": {},
   "outputs": [],
   "source": [
    "def get_label(path):\n",
    "    fname = tf.strings.split(path, '_')[-1]\n",
    "    lbl_name = tf.strings.regex_replace(fname, '.png', '')\n",
    "    onehot = tf.cast(lbl_name == class_names, tf.uint8)\n",
    "    return tf.argmax(onehot)  # 이번에는 onehot이 아닌 label 번호로"
   ]
  },
  {
   "cell_type": "code",
   "execution_count": 9,
   "metadata": {},
   "outputs": [],
   "source": [
    "def load_image_label(path):\n",
    "    gfile = tf.io.read_file(path)\n",
    "    image = tf.io.decode_image(gfile)\n",
    "    image = tf.cast(image, tf.float32) / 255.  # rescale\n",
    "    \n",
    "    label = get_label(path)\n",
    "    return image, label"
   ]
  },
  {
   "cell_type": "code",
   "execution_count": 10,
   "metadata": {},
   "outputs": [],
   "source": [
    "def image_preprocess(image, label):\n",
    "    image = tf.image.random_flip_up_down(image)\n",
    "    image = tf.image.random_flip_left_right(image)\n",
    "    return image, label"
   ]
  },
  {
   "cell_type": "code",
   "execution_count": 11,
   "metadata": {},
   "outputs": [],
   "source": [
    "AUTOTUNE = tf.data.experimental.AUTOTUNE"
   ]
  },
  {
   "cell_type": "code",
   "execution_count": 12,
   "metadata": {},
   "outputs": [],
   "source": [
    "train_dataset = tf.data.Dataset.from_tensor_slices(train_paths)\n",
    "train_dataset = train_dataset.map(load_image_label, num_parallel_calls=AUTOTUNE)\n",
    "train_dataset = train_dataset.map(image_preprocess, num_parallel_calls=AUTOTUNE)\n",
    "train_dataset = train_dataset.batch(batch_size)\n",
    "train_dataset = train_dataset.shuffle(buffer_size=len(train_paths))\n",
    "train_dataset = train_dataset.repeat()"
   ]
  },
  {
   "cell_type": "code",
   "execution_count": 13,
   "metadata": {},
   "outputs": [],
   "source": [
    "test_dataset = tf.data.Dataset.from_tensor_slices(test_paths)\n",
    "test_dataset = test_dataset.map(load_image_label, num_parallel_calls=AUTOTUNE)\n",
    "test_dataset = test_dataset.batch(batch_size)\n",
    "test_dataset = test_dataset.repeat()"
   ]
  },
  {
   "cell_type": "markdown",
   "metadata": {},
   "source": [
    "## Training"
   ]
  },
  {
   "cell_type": "markdown",
   "metadata": {},
   "source": [
    "http://localhost:6006"
   ]
  },
  {
   "cell_type": "code",
   "execution_count": 14,
   "metadata": {},
   "outputs": [
    {
     "name": "stderr",
     "output_type": "stream",
     "text": [
      "/Users/lecturer/opt/anaconda3/envs/cvtf2/lib/python3.7/site-packages/tensorflow/python/keras/engine/training.py:1844: UserWarning: `Model.fit_generator` is deprecated and will be removed in a future version. Please use `Model.fit`, which supports generators.\n",
      "  warnings.warn('`Model.fit_generator` is deprecated and '\n"
     ]
    },
    {
     "name": "stdout",
     "output_type": "stream",
     "text": [
      "Epoch 1/5\n",
      "3/3 [==============================] - 2s 641ms/step - loss: 2.4060 - accuracy: 0.1146 - val_loss: 2.3131 - val_accuracy: 0.0938\n",
      "Epoch 2/5\n",
      "3/3 [==============================] - 0s 163ms/step - loss: 2.3098 - accuracy: 0.1097 - val_loss: 2.3198 - val_accuracy: 0.0729\n",
      "Epoch 3/5\n",
      "3/3 [==============================] - 0s 118ms/step - loss: 2.3550 - accuracy: 0.1018 - val_loss: 2.3190 - val_accuracy: 0.0729\n",
      "Epoch 4/5\n",
      "3/3 [==============================] - 0s 125ms/step - loss: 2.2782 - accuracy: 0.1628 - val_loss: 2.3181 - val_accuracy: 0.0729\n",
      "Epoch 5/5\n",
      "3/3 [==============================] - 0s 104ms/step - loss: 2.2826 - accuracy: 0.1469 - val_loss: 2.3224 - val_accuracy: 0.0729\n"
     ]
    }
   ],
   "source": [
    "steps_per_epoch = len(train_paths) // batch_size\n",
    "validation_steps = len(test_paths) // batch_size\n",
    "\n",
    "history = model.fit_generator(\n",
    "    train_dataset,\n",
    "    steps_per_epoch=steps_per_epoch,\n",
    "    validation_data=test_dataset,\n",
    "    validation_steps=validation_steps,\n",
    "    epochs=num_epochs\n",
    ")"
   ]
  },
  {
   "cell_type": "markdown",
   "metadata": {},
   "source": [
    "# Load Checkpoint"
   ]
  },
  {
   "cell_type": "code",
   "execution_count": null,
   "metadata": {},
   "outputs": [],
   "source": [
    "model.load_weights('checkpoints')"
   ]
  },
  {
   "cell_type": "markdown",
   "metadata": {},
   "source": [
    "# Saving Model"
   ]
  },
  {
   "cell_type": "code",
   "execution_count": 16,
   "metadata": {},
   "outputs": [],
   "source": [
    "save_path = 'my_model.h5'"
   ]
  },
  {
   "cell_type": "code",
   "execution_count": 17,
   "metadata": {},
   "outputs": [],
   "source": [
    "model.save(save_path, include_optimizer=True)"
   ]
  },
  {
   "cell_type": "code",
   "execution_count": 18,
   "metadata": {},
   "outputs": [],
   "source": [
    "service = tf.keras.models.load_model('my_model.h5')"
   ]
  },
  {
   "cell_type": "code",
   "execution_count": null,
   "metadata": {},
   "outputs": [],
   "source": []
  },
  {
   "cell_type": "code",
   "execution_count": 20,
   "metadata": {},
   "outputs": [],
   "source": [
    "path = train_paths[0]\n",
    "test_image, test_label = load_image_label(path)\n",
    "test_image = test_image[tf.newaxis, ...]"
   ]
  },
  {
   "cell_type": "code",
   "execution_count": 21,
   "metadata": {},
   "outputs": [],
   "source": [
    "pred = service.predict(test_image)"
   ]
  },
  {
   "cell_type": "code",
   "execution_count": 22,
   "metadata": {},
   "outputs": [
    {
     "data": {
      "text/plain": [
       "2"
      ]
     },
     "execution_count": 22,
     "metadata": {},
     "output_type": "execute_result"
    }
   ],
   "source": [
    "np.argmax(pred)"
   ]
  },
  {
   "cell_type": "markdown",
   "metadata": {},
   "source": [
    "# Saving Model - 2"
   ]
  },
  {
   "cell_type": "code",
   "execution_count": 23,
   "metadata": {},
   "outputs": [],
   "source": [
    "model.save_weights('my_model_weight.h5')"
   ]
  },
  {
   "cell_type": "code",
   "execution_count": 24,
   "metadata": {},
   "outputs": [],
   "source": [
    "with open('model_architercture.json', 'w') as f:\n",
    "    f.write(model.to_json())"
   ]
  },
  {
   "cell_type": "code",
   "execution_count": 25,
   "metadata": {},
   "outputs": [],
   "source": [
    "from tensorflow.keras.models import model_from_json"
   ]
  },
  {
   "cell_type": "code",
   "execution_count": 28,
   "metadata": {},
   "outputs": [],
   "source": [
    "with open('model_architercture.json', 'r') as f:\n",
    "    model_json = model_from_json(f.read())"
   ]
  },
  {
   "cell_type": "code",
   "execution_count": 30,
   "metadata": {},
   "outputs": [],
   "source": [
    "model_json.load_weights('my_model_weight.h5')"
   ]
  },
  {
   "cell_type": "code",
   "execution_count": 31,
   "metadata": {},
   "outputs": [
    {
     "data": {
      "text/plain": [
       "2"
      ]
     },
     "execution_count": 31,
     "metadata": {},
     "output_type": "execute_result"
    }
   ],
   "source": [
    "pred = model_json.predict(test_image)\n",
    "np.argmax(pred)"
   ]
  },
  {
   "cell_type": "markdown",
   "metadata": {},
   "source": [
    "# model.h5 들여다보기"
   ]
  },
  {
   "cell_type": "code",
   "execution_count": 33,
   "metadata": {},
   "outputs": [
    {
     "name": "stdout",
     "output_type": "stream",
     "text": [
      "# packages in environment at /Users/lecturer/opt/anaconda3/envs/cvtf2:\n",
      "#\n",
      "# Name                    Version                   Build  Channel\n",
      "h5py                      2.10.0                   pypi_0    pypi\n"
     ]
    }
   ],
   "source": [
    "!conda list h5py"
   ]
  },
  {
   "cell_type": "code",
   "execution_count": 32,
   "metadata": {},
   "outputs": [],
   "source": [
    "import h5py"
   ]
  },
  {
   "cell_type": "code",
   "execution_count": 34,
   "metadata": {},
   "outputs": [],
   "source": [
    "model_file = h5py.File('my_model.h5', 'r+')"
   ]
  },
  {
   "cell_type": "code",
   "execution_count": 35,
   "metadata": {},
   "outputs": [
    {
     "data": {
      "text/plain": [
       "<KeysViewHDF5 ['model_weights', 'optimizer_weights']>"
      ]
     },
     "execution_count": 35,
     "metadata": {},
     "output_type": "execute_result"
    }
   ],
   "source": [
    "model_file.keys()"
   ]
  },
  {
   "cell_type": "code",
   "execution_count": 36,
   "metadata": {},
   "outputs": [
    {
     "data": {
      "text/plain": [
       "<KeysViewHDF5 ['activation', 'activation_1', 'activation_2', 'activation_3', 'activation_4', 'activation_5', 'conv2d', 'conv2d_1', 'conv2d_2', 'conv2d_3', 'dense', 'dense_1', 'dropout', 'dropout_1', 'dropout_2', 'flatten', 'input_1', 'max_pooling2d', 'max_pooling2d_1']>"
      ]
     },
     "execution_count": 36,
     "metadata": {},
     "output_type": "execute_result"
    }
   ],
   "source": [
    "model_file['model_weights'].keys()"
   ]
  },
  {
   "cell_type": "code",
   "execution_count": 39,
   "metadata": {},
   "outputs": [
    {
     "data": {
      "text/plain": [
       "<KeysViewHDF5 ['bias:0', 'kernel:0']>"
      ]
     },
     "execution_count": 39,
     "metadata": {},
     "output_type": "execute_result"
    }
   ],
   "source": [
    "model_file['model_weights']['conv2d']['conv2d'].keys()"
   ]
  },
  {
   "cell_type": "code",
   "execution_count": 41,
   "metadata": {},
   "outputs": [
    {
     "data": {
      "text/plain": [
       "<HDF5 dataset \"kernel:0\": shape (3, 3, 3, 32), type \"<f4\">"
      ]
     },
     "execution_count": 41,
     "metadata": {},
     "output_type": "execute_result"
    }
   ],
   "source": [
    "model_file['model_weights']['conv2d']['conv2d']['kernel:0']"
   ]
  },
  {
   "cell_type": "code",
   "execution_count": 42,
   "metadata": {},
   "outputs": [
    {
     "data": {
      "text/plain": [
       "array([[[[ 1.19540710e-02,  1.19172558e-01, -3.49400453e-02,\n",
       "           8.45298618e-02, -8.50088801e-03,  1.21980555e-01,\n",
       "           7.23318458e-02,  1.10511921e-01, -1.14771314e-01,\n",
       "          -1.04336269e-01,  5.20934910e-02,  8.64798278e-02,\n",
       "          -3.42181697e-02, -1.39057904e-01,  6.90201297e-02,\n",
       "          -1.38434961e-01, -1.21509731e-01, -6.81641102e-02,\n",
       "          -5.60541898e-02,  1.02614373e-01, -1.28788561e-01,\n",
       "          -1.04955241e-01,  4.75839116e-02, -9.68884677e-02,\n",
       "          -1.34384304e-01, -4.98847514e-02, -6.13117069e-02,\n",
       "          -6.87620342e-02,  1.26426890e-01, -3.98295224e-02,\n",
       "          -8.26288760e-02,  5.69848120e-02],\n",
       "         [ 1.02902994e-01,  2.44277064e-02, -1.90152153e-02,\n",
       "           8.77223462e-02,  3.53516056e-03, -3.97515530e-03,\n",
       "          -4.20684442e-02, -8.81229937e-02, -9.76604000e-02,\n",
       "          -1.10747457e-01, -9.26680788e-02, -3.67778689e-02,\n",
       "          -5.00759855e-02, -3.80803011e-02, -2.37469058e-02,\n",
       "           4.25817668e-02, -7.86229968e-02, -3.08954669e-03,\n",
       "           9.94324237e-02,  2.08871216e-02,  2.36501433e-02,\n",
       "           1.30166048e-02, -8.08675028e-03, -4.60094176e-02,\n",
       "          -1.32238030e-01, -3.64861153e-02, -4.56573218e-02,\n",
       "           2.98560448e-02,  4.73844036e-02, -6.06602021e-02,\n",
       "           1.11433089e-01,  1.18770055e-01],\n",
       "         [-5.58137894e-02,  8.09465498e-02, -6.47340491e-02,\n",
       "          -8.81498605e-02, -1.43281043e-01, -8.78201276e-02,\n",
       "           5.12029752e-02, -4.05174643e-02, -2.50708461e-02,\n",
       "           1.36873960e-01,  6.71248659e-02, -9.10263658e-02,\n",
       "          -6.50493950e-02,  6.48939759e-02,  1.06188968e-01,\n",
       "          -1.22476041e-01, -1.27965257e-01, -6.11538514e-02,\n",
       "          -7.95522779e-02,  1.30321577e-01, -1.15511179e-01,\n",
       "           1.33223757e-02,  9.26306620e-02,  1.03994355e-01,\n",
       "           1.03413351e-01, -9.46294591e-02, -6.00550249e-02,\n",
       "          -1.31349834e-02,  9.07275528e-02, -1.33012667e-01,\n",
       "          -1.25318050e-01, -2.68959664e-02]],\n",
       "\n",
       "        [[ 2.50374787e-02,  9.77375507e-02,  2.44497275e-03,\n",
       "           2.88366266e-02,  5.28101884e-02,  7.34312460e-02,\n",
       "           1.22357860e-01, -3.23414020e-02, -1.31983161e-01,\n",
       "           7.10244477e-02, -8.17674175e-02, -1.04799002e-01,\n",
       "           1.05688483e-01,  1.00056812e-01,  2.45726295e-02,\n",
       "           2.08529420e-02, -1.20110914e-01, -5.66752329e-02,\n",
       "          -7.54019022e-02, -4.16931580e-04,  1.09870665e-01,\n",
       "          -2.81013660e-02, -5.42253926e-02, -7.61309341e-02,\n",
       "           5.24132922e-02, -1.41941711e-01, -3.28645594e-02,\n",
       "          -1.35629639e-01, -1.18906528e-01, -1.42612290e-02,\n",
       "           5.61270304e-02, -1.38892233e-01],\n",
       "         [ 1.34128198e-01,  2.10812432e-03, -4.43768017e-02,\n",
       "           6.17985614e-02,  1.16088562e-01, -1.21889748e-01,\n",
       "           1.48766278e-03, -6.74356744e-02,  1.14231117e-01,\n",
       "          -1.26382262e-01,  4.19026241e-02, -5.75559698e-02,\n",
       "          -9.42786336e-02,  4.07028124e-02,  1.34654492e-01,\n",
       "           8.10016599e-03, -6.96472777e-03,  8.52546915e-02,\n",
       "          -7.31991604e-03, -3.97919975e-02,  1.24649003e-01,\n",
       "          -2.69084293e-02,  1.29100338e-01,  1.96140949e-02,\n",
       "           1.28092512e-01,  6.85825422e-02, -5.91086000e-02,\n",
       "           9.49870199e-02,  7.27934316e-02, -6.43594638e-02,\n",
       "          -5.32480469e-03,  9.39449891e-02],\n",
       "         [ 3.56172733e-02, -8.95531401e-02,  7.53041506e-02,\n",
       "          -1.57783926e-02, -9.10713449e-02,  9.42029208e-02,\n",
       "           2.36956328e-02, -1.29937261e-01, -9.28085521e-02,\n",
       "           3.91909815e-02, -6.87928870e-02, -2.68165283e-02,\n",
       "          -8.84031579e-02,  3.73941883e-02,  4.63754730e-03,\n",
       "           4.81057502e-02,  7.54616484e-02, -5.38918898e-02,\n",
       "          -1.10670798e-01,  1.24118458e-02,  5.47655709e-02,\n",
       "           4.24791537e-02,  7.49541819e-02, -3.32306735e-02,\n",
       "          -2.75083203e-02,  6.33093566e-02,  6.11575879e-02,\n",
       "          -9.09540150e-03,  8.22897535e-03,  4.34427001e-02,\n",
       "          -6.87975436e-02, -1.34383336e-01]],\n",
       "\n",
       "        [[-4.42163274e-02,  1.79481357e-02, -7.02021644e-02,\n",
       "          -8.60401839e-02, -7.39989430e-02,  1.18991742e-02,\n",
       "           4.39242683e-02,  9.07704756e-02,  4.52963561e-02,\n",
       "           4.72163074e-02, -2.06276309e-02, -4.23572585e-02,\n",
       "           4.93517369e-02,  6.58236071e-02, -2.75399443e-02,\n",
       "          -1.28092319e-02,  3.31762969e-03, -7.96628520e-02,\n",
       "           8.72831717e-02, -6.17894344e-02, -1.25174299e-01,\n",
       "          -1.24891050e-01, -7.28078932e-02,  1.16541348e-01,\n",
       "          -1.03541024e-01,  1.12352036e-02,  8.21850970e-02,\n",
       "           7.83056300e-03, -1.19547792e-01, -8.84938166e-02,\n",
       "          -4.80595557e-03, -5.66741824e-02],\n",
       "         [-9.57043320e-02, -5.09895245e-03,  2.07749177e-02,\n",
       "           1.35658616e-02, -9.74866226e-02, -6.87332228e-02,\n",
       "          -8.07256624e-02,  1.03103273e-01, -9.76152718e-02,\n",
       "          -1.22294530e-01,  8.19760263e-02,  1.31050721e-01,\n",
       "          -8.36290345e-02,  1.06949722e-02,  7.33117387e-02,\n",
       "          -1.10830776e-01,  1.12611894e-02,  1.12470098e-01,\n",
       "          -1.22040629e-01, -1.00121804e-01,  9.90586430e-02,\n",
       "           1.00173473e-01, -1.21972799e-01,  1.92372687e-02,\n",
       "           1.57090332e-02,  6.29416630e-02, -5.43454699e-02,\n",
       "          -1.14145502e-01,  1.04812726e-01,  1.29342958e-01,\n",
       "          -2.10494697e-02, -2.11027078e-02],\n",
       "         [ 1.27118796e-01, -6.28706366e-02, -1.33251548e-01,\n",
       "           1.43267494e-02, -1.06450394e-02,  4.16875742e-02,\n",
       "           1.83662474e-02, -1.08279176e-01, -2.01884639e-02,\n",
       "          -7.41755962e-02,  7.63573647e-02,  1.11832842e-01,\n",
       "           1.09056033e-01, -4.94923443e-02, -1.20641202e-01,\n",
       "          -3.80869657e-02, -3.58924828e-02, -9.05615166e-02,\n",
       "           6.64385036e-02,  4.91127968e-02,  4.48814258e-02,\n",
       "          -1.19533852e-01, -2.45057084e-02,  8.20259824e-02,\n",
       "          -4.10589799e-02,  1.21159419e-01, -9.45912004e-02,\n",
       "          -3.03723663e-02,  1.13831758e-01,  8.40270892e-02,\n",
       "           5.20980768e-02, -9.64517519e-02]]],\n",
       "\n",
       "\n",
       "       [[[ 8.88642147e-02, -5.71714081e-02,  8.31631124e-02,\n",
       "           1.12710245e-01,  3.28560360e-02,  1.18856914e-01,\n",
       "           5.10324873e-02, -1.33640319e-01,  2.16708649e-02,\n",
       "          -9.75341797e-02,  9.54315066e-02,  1.36510944e-02,\n",
       "          -1.19779214e-01,  4.35017571e-02,  7.64091685e-02,\n",
       "           5.71092516e-02, -2.02429835e-02,  1.16364658e-01,\n",
       "           1.02897771e-01,  1.26902878e-01,  3.85126770e-02,\n",
       "           1.12729922e-01,  1.17429584e-01,  5.34641370e-02,\n",
       "          -4.17119004e-02,  5.96468244e-03, -6.81025833e-02,\n",
       "          -9.33431908e-02, -1.15527771e-01,  1.12226017e-01,\n",
       "           2.31126342e-02,  5.97947538e-02],\n",
       "         [-4.16876860e-02, -8.89369398e-02, -1.24622509e-01,\n",
       "          -6.44541085e-02, -1.50327552e-02,  8.15199390e-02,\n",
       "          -9.23424736e-02, -4.75597158e-02, -1.21903722e-03,\n",
       "           1.32021055e-01, -8.83281173e-04,  6.78187096e-03,\n",
       "           2.28202920e-02, -6.23793118e-02, -7.92700872e-02,\n",
       "          -9.66517553e-02,  5.11344187e-02,  7.30733499e-02,\n",
       "           1.29442304e-01,  5.62833138e-02,  1.19406655e-01,\n",
       "           1.03042565e-01,  1.25456795e-01, -1.34306833e-01,\n",
       "           8.20269957e-02, -4.95609939e-02, -3.07483431e-02,\n",
       "           7.59490505e-02, -1.73733719e-02, -6.83650598e-02,\n",
       "          -3.89346574e-03, -1.18441321e-01],\n",
       "         [-1.05143234e-01, -1.32415667e-01, -2.11224966e-02,\n",
       "          -5.38244806e-02, -2.49806643e-02,  1.28244134e-02,\n",
       "           4.50929515e-02,  2.18526386e-02, -1.01296671e-01,\n",
       "          -7.44593069e-02,  9.72037762e-02,  1.07865170e-01,\n",
       "           1.33386567e-01, -1.43956482e-01,  5.65360487e-02,\n",
       "          -7.16222748e-02, -1.13522343e-01,  3.97849381e-02,\n",
       "           1.17860502e-02,  2.91432650e-03,  3.77586707e-02,\n",
       "          -3.15797739e-02, -9.55553949e-02,  1.00914657e-01,\n",
       "          -6.10050298e-02, -2.13636458e-02,  1.05668105e-01,\n",
       "           4.04402167e-02,  1.10484280e-01,  2.88385572e-03,\n",
       "           6.80509284e-02, -4.20516636e-03]],\n",
       "\n",
       "        [[ 4.64870781e-02, -1.32618621e-01, -7.14244619e-02,\n",
       "           3.41099985e-02,  7.05281645e-02, -3.02868914e-02,\n",
       "           6.49821162e-02, -1.28935888e-01, -1.98801700e-02,\n",
       "           5.86237609e-02, -1.02899112e-01,  5.12154773e-02,\n",
       "          -8.78423173e-03,  5.35488315e-02, -1.25192642e-01,\n",
       "          -1.31430238e-01,  3.30518559e-02,  1.29177392e-01,\n",
       "           8.00354853e-02,  5.93686849e-02, -3.81619446e-02,\n",
       "          -5.44697270e-02,  9.06055793e-02, -4.76164836e-03,\n",
       "           1.09147422e-01,  9.56200138e-02,  1.01713747e-01,\n",
       "          -1.08593859e-01, -5.48167452e-02,  6.96478859e-02,\n",
       "          -3.03749740e-02, -4.17783223e-02],\n",
       "         [-3.72335152e-03,  3.71648706e-02,  1.94284134e-02,\n",
       "          -1.18781663e-01,  1.28099963e-01,  9.22617223e-03,\n",
       "          -7.69664049e-02,  5.64757772e-02, -7.90259317e-02,\n",
       "          -7.05278367e-02, -8.24155062e-02,  5.19083329e-02,\n",
       "          -8.51359218e-02, -1.06219038e-01, -1.26992017e-01,\n",
       "          -1.49903819e-02,  1.78490803e-02,  4.59367558e-02,\n",
       "           1.09249363e-02,  1.07839808e-01,  1.13616109e-01,\n",
       "          -1.36136897e-02, -1.01734959e-01,  9.17780474e-02,\n",
       "           9.81601328e-02,  6.50793761e-02,  2.56986544e-02,\n",
       "          -3.79653387e-02, -7.77683258e-02,  1.14857800e-01,\n",
       "           1.87396500e-02, -4.33773845e-02],\n",
       "         [-4.71026897e-02,  1.01862192e-01,  3.34930643e-02,\n",
       "          -9.44044888e-02, -9.42441896e-02,  4.22211457e-03,\n",
       "           9.14225802e-02,  1.18546762e-01,  6.93334043e-02,\n",
       "           1.30084259e-02, -3.26559879e-02,  1.05128750e-01,\n",
       "          -1.16803519e-01, -8.79111439e-02, -5.21043688e-02,\n",
       "          -6.55826703e-02,  9.85311121e-02,  6.06000349e-02,\n",
       "          -4.31505498e-04, -4.94774543e-02,  2.90251374e-02,\n",
       "           9.02259499e-02,  1.19453900e-01,  9.98257250e-02,\n",
       "          -1.11527666e-01,  3.34878899e-02,  5.04951999e-02,\n",
       "          -6.47990778e-02, -6.09138496e-02, -1.02623731e-01,\n",
       "           7.02912882e-02,  9.42162275e-02]],\n",
       "\n",
       "        [[ 4.92105223e-02, -6.70029521e-02,  9.42749158e-02,\n",
       "           9.90615934e-02, -1.30143493e-01, -1.14803836e-01,\n",
       "           1.34863302e-01,  7.05367252e-02, -4.48512379e-03,\n",
       "          -1.17389187e-01, -7.41550848e-02,  2.27392670e-02,\n",
       "          -6.23897724e-02,  4.35261689e-02, -7.79537782e-02,\n",
       "          -3.54290754e-02,  7.22209141e-02,  5.96520565e-02,\n",
       "           1.06064579e-03, -5.34663796e-02, -1.06004380e-01,\n",
       "           3.61114182e-02, -1.22588370e-02, -5.67881614e-02,\n",
       "           1.41502768e-02,  5.49362041e-02, -6.90890360e-04,\n",
       "           1.09491274e-01,  6.29284754e-02,  1.49822012e-02,\n",
       "          -4.37726043e-02,  2.76425704e-02],\n",
       "         [ 1.27471119e-01,  7.15600550e-02, -4.77448888e-02,\n",
       "           1.12075023e-01,  5.46094030e-02, -7.84926303e-03,\n",
       "          -1.93386171e-02, -1.24241620e-01, -7.38602132e-02,\n",
       "           3.37902270e-02,  1.10118262e-01, -2.72060353e-02,\n",
       "          -7.50647709e-02, -8.60726312e-02,  2.50980742e-02,\n",
       "           1.04372732e-01,  1.84773877e-02, -9.38404351e-02,\n",
       "           7.66521543e-02,  8.73946920e-02, -8.92898068e-02,\n",
       "           2.19075195e-02, -2.62477640e-02, -1.41308621e-01,\n",
       "           5.28365076e-02, -9.80934277e-02,  8.07957202e-02,\n",
       "          -5.52587165e-03,  8.69797617e-02,  6.10683821e-02,\n",
       "           1.14661969e-01,  1.02364503e-01],\n",
       "         [-1.06897824e-01, -3.71493436e-02, -8.01567957e-02,\n",
       "           1.38426170e-01, -9.78178158e-02, -1.20000318e-01,\n",
       "           2.52879150e-02,  3.83995324e-02, -1.26973260e-02,\n",
       "          -8.58744383e-02,  2.67576426e-02, -4.57253233e-02,\n",
       "           8.51856321e-02,  6.78236783e-02,  4.09956947e-02,\n",
       "           1.25118554e-01, -1.53590543e-02, -8.29720274e-02,\n",
       "          -5.25050759e-02, -5.24029508e-02, -5.07389428e-03,\n",
       "          -1.22997478e-01, -5.00602908e-02, -1.28102392e-01,\n",
       "          -4.42132577e-02, -1.19039804e-01,  1.30053237e-01,\n",
       "           4.88106459e-02, -1.07665032e-01,  1.19036838e-01,\n",
       "          -3.70897427e-02,  7.95398429e-02]]],\n",
       "\n",
       "\n",
       "       [[[-5.07921875e-02,  9.18955430e-02,  1.17469858e-02,\n",
       "          -1.34518985e-02, -9.81936455e-02, -7.97823668e-02,\n",
       "          -9.46131721e-02, -8.07979926e-02,  1.25014722e-01,\n",
       "           8.63807723e-02, -7.67079964e-02, -1.23947732e-01,\n",
       "           4.24038023e-02, -8.82449523e-02, -1.07631773e-01,\n",
       "          -4.32135127e-02, -1.09144852e-01,  1.11671269e-01,\n",
       "          -1.02821343e-01,  4.96707670e-02, -8.72244686e-02,\n",
       "          -1.33179873e-01, -3.38050723e-02,  1.14116676e-01,\n",
       "          -9.16303843e-02,  1.27143696e-01, -3.13525163e-02,\n",
       "           1.27774462e-01,  1.08629204e-02, -1.17136560e-01,\n",
       "           1.24403469e-01,  4.68188152e-02],\n",
       "         [ 4.32398915e-02,  8.73902962e-02, -3.80403139e-02,\n",
       "           1.26617074e-01,  1.98187679e-02,  7.45909065e-02,\n",
       "          -1.75921787e-02, -5.40894717e-02, -3.72612476e-02,\n",
       "           3.02621797e-02,  9.43013653e-02,  2.65813638e-02,\n",
       "           2.33106390e-02,  1.16487674e-01,  7.17782974e-02,\n",
       "          -7.95875043e-02,  3.74166593e-02, -4.64725085e-02,\n",
       "           5.78533821e-02,  9.35858116e-03,  2.99462546e-02,\n",
       "          -4.73673344e-02,  5.74869774e-02,  1.27719328e-01,\n",
       "           1.02373771e-01, -1.26878172e-01, -4.90101501e-02,\n",
       "          -6.74429834e-02,  4.43666354e-02, -2.37280503e-03,\n",
       "          -1.07387155e-02, -1.19747601e-01],\n",
       "         [-7.68437088e-02,  4.56923209e-02, -1.32820001e-02,\n",
       "          -1.21814832e-01,  8.39614347e-02,  6.41728789e-02,\n",
       "          -1.10427402e-01,  8.56444165e-02,  2.89387684e-02,\n",
       "          -1.14387730e-02,  1.16461091e-01,  2.91642770e-02,\n",
       "           4.09101471e-02, -2.47876365e-02, -4.89297472e-02,\n",
       "          -4.54321271e-03,  6.34782538e-02,  7.77659146e-03,\n",
       "           5.12142740e-02,  1.17843702e-01,  1.22999780e-01,\n",
       "           1.07210204e-01, -6.87372684e-02,  2.87356377e-02,\n",
       "          -4.76449281e-02,  9.35151130e-02,  4.63394560e-02,\n",
       "          -1.02182619e-01, -1.03609629e-01, -1.03518821e-01,\n",
       "           7.62018189e-02,  1.60394050e-02]],\n",
       "\n",
       "        [[-1.36591762e-01, -5.74029759e-02,  1.30217254e-01,\n",
       "           2.86628056e-04, -6.72218129e-02, -8.31356570e-02,\n",
       "          -1.33202404e-01,  7.34110549e-02, -1.60515774e-02,\n",
       "          -5.69171458e-02, -2.53626984e-03, -1.18832782e-01,\n",
       "           3.45861167e-03, -1.28975073e-02, -7.69833922e-02,\n",
       "          -8.82997885e-02,  5.83543181e-02, -9.95053649e-02,\n",
       "           3.99029665e-02,  1.29701272e-01, -9.04346034e-02,\n",
       "           9.40109715e-02, -7.51449093e-02,  7.36215562e-02,\n",
       "          -8.19393098e-02, -3.55875604e-02,  8.82480368e-02,\n",
       "          -4.66537736e-02, -1.23582117e-01,  3.55851948e-02,\n",
       "           9.22389403e-02,  5.18404916e-02],\n",
       "         [ 1.21793292e-01,  1.17647424e-01,  4.46339920e-02,\n",
       "           2.36895052e-03,  1.15762129e-02, -6.87596500e-02,\n",
       "          -1.16495833e-01, -1.41448185e-01,  1.78593919e-02,\n",
       "           4.82074404e-03,  1.30071446e-01,  1.25000149e-01,\n",
       "           1.12396441e-01,  5.85661829e-02,  1.37887716e-01,\n",
       "           5.56334890e-02,  2.46100072e-02,  2.21284144e-02,\n",
       "           9.53938290e-02,  5.52622005e-02, -1.11705363e-01,\n",
       "           1.22710943e-01, -2.50111939e-03, -1.73966028e-02,\n",
       "           1.26616493e-01,  8.18757042e-02,  1.09597050e-01,\n",
       "          -1.20059311e-01,  2.61989702e-02,  1.21514007e-01,\n",
       "           4.82032336e-02,  7.27926567e-03],\n",
       "         [-1.50868464e-02,  1.14977293e-01, -2.40470786e-02,\n",
       "           1.33672923e-01, -4.20416258e-02, -1.29004076e-01,\n",
       "          -1.19269148e-01, -1.02896892e-01, -8.29593614e-02,\n",
       "          -5.82257658e-02, -7.03634322e-02, -5.36535494e-02,\n",
       "          -1.07296661e-01, -7.52569437e-02,  4.97988202e-02,\n",
       "          -6.06416427e-02, -3.78071442e-02, -1.27134979e-01,\n",
       "          -6.27905726e-02, -6.67060837e-02,  9.75634307e-02,\n",
       "           5.75762391e-02,  6.13165200e-02,  5.18024452e-02,\n",
       "          -1.32618144e-01,  2.74679717e-02,  3.10696531e-02,\n",
       "           7.19383433e-02,  6.46406561e-02, -2.94037033e-02,\n",
       "          -6.47736341e-02,  9.40626115e-02]],\n",
       "\n",
       "        [[ 1.54981101e-02, -6.14294559e-02, -8.67080688e-02,\n",
       "          -1.18161090e-01,  1.12779960e-01,  5.62163778e-02,\n",
       "           3.90540473e-02,  4.35129479e-02,  7.09092915e-02,\n",
       "          -1.32966265e-01,  5.60898446e-02,  1.05276823e-01,\n",
       "          -5.48277562e-03,  7.34064057e-02, -7.06682727e-02,\n",
       "          -4.95000631e-02, -6.48254007e-02,  7.55752698e-02,\n",
       "          -7.52004907e-02, -8.86361394e-03,  1.08725384e-01,\n",
       "           9.58741382e-02, -1.12365752e-01,  4.94534932e-02,\n",
       "           1.26347274e-01,  5.28953299e-02, -1.27312750e-01,\n",
       "          -5.32769226e-02,  4.15223651e-02,  8.04163888e-02,\n",
       "           3.74923577e-03, -3.06693725e-02],\n",
       "         [-4.03657593e-02,  3.00413314e-02, -1.01396747e-01,\n",
       "          -1.01232864e-01,  5.99241890e-02,  1.25386834e-01,\n",
       "           4.85514514e-02,  1.10356614e-01,  8.12399238e-02,\n",
       "           7.21269026e-02, -1.01690162e-02,  7.10008517e-02,\n",
       "          -1.35198921e-01, -1.19354054e-01,  8.11951533e-02,\n",
       "           1.20919622e-01,  1.10407077e-01,  1.15010872e-01,\n",
       "           1.88723393e-02, -7.67541826e-02, -1.88489947e-02,\n",
       "           8.33336785e-02, -1.16178706e-01,  5.33742756e-02,\n",
       "           6.03408776e-02,  6.51288256e-02,  8.50422904e-02,\n",
       "          -7.01176226e-02, -1.29744783e-01,  1.42866587e-02,\n",
       "          -4.57610004e-02, -1.01492032e-01],\n",
       "         [ 7.51480013e-02,  4.67470028e-02, -6.08198419e-02,\n",
       "           5.12501076e-02,  7.46516362e-02,  1.36735469e-01,\n",
       "           7.83300400e-02,  1.00279525e-01, -5.54164425e-02,\n",
       "           3.72486785e-02,  4.91352985e-05,  3.77884582e-02,\n",
       "           2.88764499e-02, -1.33642992e-02, -9.63563919e-02,\n",
       "           3.60892378e-02, -1.61756873e-02,  1.33031383e-01,\n",
       "          -5.27320541e-02,  6.96381135e-03,  2.02313848e-02,\n",
       "           5.74723780e-02,  7.17899725e-02,  9.32808686e-03,\n",
       "          -4.31985222e-02,  8.59598815e-02,  6.81264233e-03,\n",
       "           8.12803581e-02,  7.58983940e-02,  1.03201866e-01,\n",
       "          -1.06701337e-01,  1.11252069e-01]]]], dtype=float32)"
      ]
     },
     "execution_count": 42,
     "metadata": {},
     "output_type": "execute_result"
    }
   ],
   "source": [
    "np.array(model_file['model_weights']['conv2d']['conv2d']['kernel:0'])"
   ]
  },
  {
   "cell_type": "code",
   "execution_count": null,
   "metadata": {},
   "outputs": [],
   "source": []
  }
 ],
 "metadata": {
  "kernelspec": {
   "display_name": "Python 3",
   "language": "python",
   "name": "python3"
  },
  "language_info": {
   "codemirror_mode": {
    "name": "ipython",
    "version": 3
   },
   "file_extension": ".py",
   "mimetype": "text/x-python",
   "name": "python",
   "nbconvert_exporter": "python",
   "pygments_lexer": "ipython3",
   "version": "3.7.9"
  }
 },
 "nbformat": 4,
 "nbformat_minor": 4
}
