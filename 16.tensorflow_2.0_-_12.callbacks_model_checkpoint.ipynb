{
 "cells": [
  {
   "cell_type": "markdown",
   "metadata": {},
   "source": [
    "# TensorFlow 2.0"
   ]
  },
  {
   "cell_type": "code",
   "execution_count": 1,
   "metadata": {},
   "outputs": [],
   "source": [
    "import os\n",
    "from glob import glob\n",
    "from datetime import datetime\n",
    "\n",
    "import numpy as np\n",
    "\n",
    "import tensorflow as tf\n",
    "from tensorflow.keras import layers\n",
    "\n",
    "from tensorflow.keras import datasets \n",
    "\n",
    "import matplotlib.pyplot as plt\n",
    "\n",
    "%matplotlib inline"
   ]
  },
  {
   "cell_type": "markdown",
   "metadata": {},
   "source": [
    "## Hyperparameter Tunning"
   ]
  },
  {
   "cell_type": "code",
   "execution_count": 2,
   "metadata": {},
   "outputs": [],
   "source": [
    "num_epochs = 20\n",
    "batch_size = 32\n",
    "\n",
    "learning_rate = 0.001\n",
    "\n",
    "dropout_rate = 0.5\n",
    "\n",
    "input_shape = (32, 32, 3)\n",
    "num_classes = 10"
   ]
  },
  {
   "cell_type": "markdown",
   "metadata": {},
   "source": [
    "## Build Model"
   ]
  },
  {
   "cell_type": "code",
   "execution_count": 3,
   "metadata": {},
   "outputs": [],
   "source": [
    "inputs = layers.Input(input_shape)\n",
    "\n",
    "net = layers.Conv2D(32, (3, 3), padding='SAME')(inputs)\n",
    "net = layers.Activation('relu')(net)\n",
    "net = layers.Conv2D(32, (3, 3), padding='SAME')(net)\n",
    "net = layers.Activation('relu')(net)\n",
    "net = layers.MaxPooling2D(pool_size=(2, 2))(net)\n",
    "net = layers.Dropout(dropout_rate)(net)\n",
    "\n",
    "net = layers.Conv2D(64, (3, 3), padding='SAME')(net)\n",
    "net = layers.Activation('relu')(net)\n",
    "net = layers.Conv2D(64, (3, 3), padding='SAME')(net)\n",
    "net = layers.Activation('relu')(net)\n",
    "net = layers.MaxPooling2D(pool_size=(2, 2))(net)\n",
    "net = layers.Dropout(dropout_rate)(net)\n",
    "\n",
    "net = layers.Flatten()(net)\n",
    "net = layers.Dense(512)(net)\n",
    "net = layers.Activation('relu')(net)\n",
    "net = layers.Dropout(dropout_rate)(net)\n",
    "net = layers.Dense(num_classes)(net)\n",
    "net = layers.Activation('softmax')(net)\n",
    "\n",
    "model = tf.keras.Model(inputs=inputs, outputs=net, name='Basic_CNN')"
   ]
  },
  {
   "cell_type": "code",
   "execution_count": 4,
   "metadata": {},
   "outputs": [],
   "source": [
    "# Model is the full model w/o custom layers\n",
    "model.compile(optimizer=tf.keras.optimizers.Adam(learning_rate),  # Optimization\n",
    "              loss='sparse_categorical_crossentropy',  # Loss Function \n",
    "              metrics=['accuracy'])  # Metrics / Accuracy"
   ]
  },
  {
   "cell_type": "markdown",
   "metadata": {},
   "source": [
    "# Data Preprocess"
   ]
  },
  {
   "cell_type": "code",
   "execution_count": 5,
   "metadata": {},
   "outputs": [],
   "source": [
    "train_paths = glob('dataset/cifar/train/*.png')[:1000]\n",
    "test_paths = glob('dataset/cifar/test/*.png')[:1000]"
   ]
  },
  {
   "cell_type": "code",
   "execution_count": 6,
   "metadata": {},
   "outputs": [
    {
     "data": {
      "text/plain": [
       "1000"
      ]
     },
     "execution_count": 6,
     "metadata": {},
     "output_type": "execute_result"
    }
   ],
   "source": [
    "len(train_paths)"
   ]
  },
  {
   "cell_type": "code",
   "execution_count": 7,
   "metadata": {},
   "outputs": [],
   "source": [
    "def get_class_name(path):\n",
    "    return path.split('_')[-1].replace('.png', '')"
   ]
  },
  {
   "cell_type": "code",
   "execution_count": 8,
   "metadata": {},
   "outputs": [],
   "source": [
    "train_labels = [get_class_name(path) for path in train_paths]\n",
    "class_names = np.unique(train_labels)"
   ]
  },
  {
   "cell_type": "code",
   "execution_count": 9,
   "metadata": {},
   "outputs": [],
   "source": [
    "def get_label(path):\n",
    "    fname = tf.strings.split(path, '_')[-1]\n",
    "    lbl_name = tf.strings.regex_replace(fname, '.png', '')\n",
    "    onehot = tf.cast(lbl_name == class_names, tf.uint8)\n",
    "    return tf.argmax(onehot)  # 이번에는 onehot이 아닌 label 번호로"
   ]
  },
  {
   "cell_type": "code",
   "execution_count": 10,
   "metadata": {},
   "outputs": [],
   "source": [
    "def load_image_label(path):\n",
    "    gfile = tf.io.read_file(path)\n",
    "    image = tf.io.decode_image(gfile)\n",
    "    image = tf.cast(image, tf.float32) / 255.  # rescale\n",
    "    \n",
    "    label = get_label(path)\n",
    "    return image, label"
   ]
  },
  {
   "cell_type": "code",
   "execution_count": 11,
   "metadata": {},
   "outputs": [],
   "source": [
    "def image_preprocess(image, label):\n",
    "    image = tf.image.random_flip_up_down(image)\n",
    "    image = tf.image.random_flip_left_right(image)\n",
    "    return image, label"
   ]
  },
  {
   "cell_type": "code",
   "execution_count": 12,
   "metadata": {},
   "outputs": [],
   "source": [
    "AUTOTUNE = tf.data.experimental.AUTOTUNE"
   ]
  },
  {
   "cell_type": "code",
   "execution_count": 13,
   "metadata": {},
   "outputs": [],
   "source": [
    "train_dataset = tf.data.Dataset.from_tensor_slices(train_paths)\n",
    "train_dataset = train_dataset.map(load_image_label, num_parallel_calls=AUTOTUNE)\n",
    "train_dataset = train_dataset.map(image_preprocess, num_parallel_calls=AUTOTUNE)\n",
    "train_dataset = train_dataset.batch(batch_size)\n",
    "train_dataset = train_dataset.shuffle(buffer_size=len(train_paths))\n",
    "train_dataset = train_dataset.repeat()"
   ]
  },
  {
   "cell_type": "code",
   "execution_count": 14,
   "metadata": {},
   "outputs": [],
   "source": [
    "test_dataset = tf.data.Dataset.from_tensor_slices(test_paths)\n",
    "test_dataset = test_dataset.map(load_image_label, num_parallel_calls=AUTOTUNE)\n",
    "test_dataset = test_dataset.batch(batch_size)\n",
    "test_dataset = test_dataset.repeat()"
   ]
  },
  {
   "cell_type": "markdown",
   "metadata": {},
   "source": [
    "# Checkpoint"
   ]
  },
  {
   "cell_type": "code",
   "execution_count": 15,
   "metadata": {},
   "outputs": [],
   "source": [
    "save_path = 'checkpoints'"
   ]
  },
  {
   "cell_type": "code",
   "execution_count": 16,
   "metadata": {},
   "outputs": [],
   "source": [
    "checkpoint = tf.keras.callbacks.ModelCheckpoint(save_path, monitor='val_accuracy',\n",
    "                                               verbose=1, save_best_only=True, mode='max')"
   ]
  },
  {
   "cell_type": "markdown",
   "metadata": {},
   "source": [
    "## Training"
   ]
  },
  {
   "cell_type": "code",
   "execution_count": 17,
   "metadata": {},
   "outputs": [
    {
     "name": "stderr",
     "output_type": "stream",
     "text": [
      "/Users/lecturer/opt/anaconda3/envs/cvtf2/lib/python3.7/site-packages/tensorflow/python/keras/engine/training.py:1844: UserWarning: `Model.fit_generator` is deprecated and will be removed in a future version. Please use `Model.fit`, which supports generators.\n",
      "  warnings.warn('`Model.fit_generator` is deprecated and '\n"
     ]
    },
    {
     "name": "stdout",
     "output_type": "stream",
     "text": [
      "Epoch 1/20\n",
      "31/31 [==============================] - 5s 125ms/step - loss: 2.3507 - accuracy: 0.1182 - val_loss: 2.3013 - val_accuracy: 0.1603\n",
      "\n",
      "Epoch 00001: val_accuracy improved from -inf to 0.16028, saving model to checkpoints\n",
      "INFO:tensorflow:Assets written to: checkpoints/assets\n",
      "Epoch 2/20\n",
      "31/31 [==============================] - 3s 84ms/step - loss: 2.2914 - accuracy: 0.1158 - val_loss: 2.2146 - val_accuracy: 0.1542\n",
      "\n",
      "Epoch 00002: val_accuracy did not improve from 0.16028\n",
      "Epoch 3/20\n",
      "31/31 [==============================] - 3s 84ms/step - loss: 2.2277 - accuracy: 0.1414 - val_loss: 2.2736 - val_accuracy: 0.1190\n",
      "\n",
      "Epoch 00003: val_accuracy did not improve from 0.16028\n",
      "Epoch 4/20\n",
      "31/31 [==============================] - 3s 85ms/step - loss: 2.2555 - accuracy: 0.1339 - val_loss: 2.1132 - val_accuracy: 0.2298\n",
      "\n",
      "Epoch 00004: val_accuracy improved from 0.16028 to 0.22984, saving model to checkpoints\n",
      "INFO:tensorflow:Assets written to: checkpoints/assets\n",
      "Epoch 5/20\n",
      "31/31 [==============================] - 2s 79ms/step - loss: 2.1536 - accuracy: 0.1810 - val_loss: 2.1198 - val_accuracy: 0.2500\n",
      "\n",
      "Epoch 00005: val_accuracy improved from 0.22984 to 0.25000, saving model to checkpoints\n",
      "INFO:tensorflow:Assets written to: checkpoints/assets\n",
      "Epoch 6/20\n",
      "31/31 [==============================] - 2s 79ms/step - loss: 2.1017 - accuracy: 0.2062 - val_loss: 2.0762 - val_accuracy: 0.2117\n",
      "\n",
      "Epoch 00006: val_accuracy did not improve from 0.25000\n",
      "Epoch 7/20\n",
      "31/31 [==============================] - 3s 83ms/step - loss: 2.1059 - accuracy: 0.1961 - val_loss: 1.9415 - val_accuracy: 0.2621\n",
      "\n",
      "Epoch 00007: val_accuracy improved from 0.25000 to 0.26210, saving model to checkpoints\n",
      "INFO:tensorflow:Assets written to: checkpoints/assets\n",
      "Epoch 8/20\n",
      "31/31 [==============================] - 2s 80ms/step - loss: 2.0955 - accuracy: 0.1900 - val_loss: 1.9499 - val_accuracy: 0.3085\n",
      "\n",
      "Epoch 00008: val_accuracy improved from 0.26210 to 0.30847, saving model to checkpoints\n",
      "INFO:tensorflow:Assets written to: checkpoints/assets\n",
      "Epoch 9/20\n",
      "31/31 [==============================] - 3s 83ms/step - loss: 1.9577 - accuracy: 0.2632 - val_loss: 1.8934 - val_accuracy: 0.2762\n",
      "\n",
      "Epoch 00009: val_accuracy did not improve from 0.30847\n",
      "Epoch 10/20\n",
      "31/31 [==============================] - 3s 87ms/step - loss: 1.9212 - accuracy: 0.2572 - val_loss: 1.8190 - val_accuracy: 0.3508\n",
      "\n",
      "Epoch 00010: val_accuracy improved from 0.30847 to 0.35081, saving model to checkpoints\n",
      "INFO:tensorflow:Assets written to: checkpoints/assets\n",
      "Epoch 11/20\n",
      "31/31 [==============================] - 3s 85ms/step - loss: 1.8289 - accuracy: 0.3344 - val_loss: 1.8259 - val_accuracy: 0.3115\n",
      "\n",
      "Epoch 00011: val_accuracy did not improve from 0.35081\n",
      "Epoch 12/20\n",
      "31/31 [==============================] - 2s 81ms/step - loss: 1.7838 - accuracy: 0.3296 - val_loss: 1.8380 - val_accuracy: 0.3054\n",
      "\n",
      "Epoch 00012: val_accuracy did not improve from 0.35081\n",
      "Epoch 13/20\n",
      "31/31 [==============================] - 2s 80ms/step - loss: 1.8085 - accuracy: 0.3171 - val_loss: 1.7556 - val_accuracy: 0.3458\n",
      "\n",
      "Epoch 00013: val_accuracy did not improve from 0.35081\n",
      "Epoch 14/20\n",
      "31/31 [==============================] - 3s 84ms/step - loss: 1.7634 - accuracy: 0.3387 - val_loss: 1.7354 - val_accuracy: 0.3327\n",
      "\n",
      "Epoch 00014: val_accuracy did not improve from 0.35081\n",
      "Epoch 15/20\n",
      "31/31 [==============================] - 3s 82ms/step - loss: 1.7024 - accuracy: 0.3463 - val_loss: 1.7427 - val_accuracy: 0.3387\n",
      "\n",
      "Epoch 00015: val_accuracy did not improve from 0.35081\n",
      "Epoch 16/20\n",
      "31/31 [==============================] - 3s 85ms/step - loss: 1.6746 - accuracy: 0.3726 - val_loss: 1.8094 - val_accuracy: 0.3579\n",
      "\n",
      "Epoch 00016: val_accuracy improved from 0.35081 to 0.35786, saving model to checkpoints\n",
      "INFO:tensorflow:Assets written to: checkpoints/assets\n",
      "Epoch 17/20\n",
      "31/31 [==============================] - 3s 84ms/step - loss: 1.7618 - accuracy: 0.3450 - val_loss: 1.6865 - val_accuracy: 0.3710\n",
      "\n",
      "Epoch 00017: val_accuracy improved from 0.35786 to 0.37097, saving model to checkpoints\n",
      "INFO:tensorflow:Assets written to: checkpoints/assets\n",
      "Epoch 18/20\n",
      "31/31 [==============================] - 3s 83ms/step - loss: 1.6198 - accuracy: 0.4150 - val_loss: 1.6939 - val_accuracy: 0.3790\n",
      "\n",
      "Epoch 00018: val_accuracy improved from 0.37097 to 0.37903, saving model to checkpoints\n",
      "INFO:tensorflow:Assets written to: checkpoints/assets\n",
      "Epoch 19/20\n",
      "31/31 [==============================] - 2s 81ms/step - loss: 1.6638 - accuracy: 0.3789 - val_loss: 1.6880 - val_accuracy: 0.3921\n",
      "\n",
      "Epoch 00019: val_accuracy improved from 0.37903 to 0.39214, saving model to checkpoints\n",
      "INFO:tensorflow:Assets written to: checkpoints/assets\n",
      "Epoch 20/20\n",
      "31/31 [==============================] - 2s 78ms/step - loss: 1.5478 - accuracy: 0.4091 - val_loss: 1.7770 - val_accuracy: 0.3488\n",
      "\n",
      "Epoch 00020: val_accuracy did not improve from 0.39214\n"
     ]
    },
    {
     "data": {
      "text/plain": [
       "<tensorflow.python.keras.callbacks.History at 0x7f8b5098f610>"
      ]
     },
     "execution_count": 17,
     "metadata": {},
     "output_type": "execute_result"
    }
   ],
   "source": [
    "steps_per_epoch = len(train_paths) // batch_size\n",
    "validation_steps = len(test_paths) // batch_size\n",
    "\n",
    "model.fit_generator(\n",
    "    train_dataset,\n",
    "    steps_per_epoch=steps_per_epoch,\n",
    "    validation_data=test_dataset,\n",
    "    validation_steps=validation_steps,\n",
    "    epochs=num_epochs,\n",
    "    callbacks=[checkpoint]\n",
    ")"
   ]
  },
  {
   "cell_type": "markdown",
   "metadata": {},
   "source": [
    "https://www.tensorflow.org/tensorboard/r2/image_summaries#setup"
   ]
  }
 ],
 "metadata": {
  "kernelspec": {
   "display_name": "Python 3",
   "language": "python",
   "name": "python3"
  },
  "language_info": {
   "codemirror_mode": {
    "name": "ipython",
    "version": 3
   },
   "file_extension": ".py",
   "mimetype": "text/x-python",
   "name": "python",
   "nbconvert_exporter": "python",
   "pygments_lexer": "ipython3",
   "version": "3.7.9"
  }
 },
 "nbformat": 4,
 "nbformat_minor": 4
}
