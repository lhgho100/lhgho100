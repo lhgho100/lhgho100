{
 "cells": [
  {
   "cell_type": "markdown",
   "id": "ranging-april",
   "metadata": {},
   "source": [
    "## 실행 가능성 확인하기"
   ]
  },
  {
   "cell_type": "code",
   "execution_count": 1,
   "id": "unsigned-thanks",
   "metadata": {},
   "outputs": [],
   "source": [
    "import glob\n",
    "import os\n",
    "import tensorflow as tf\n",
    "import cv2\n",
    "from tensorflow.keras.layers import Conv2D, MaxPool2D, Flatten, Dense\n",
    "from tensorflow.keras.models import Sequential"
   ]
  },
  {
   "cell_type": "markdown",
   "id": "primary-negotiation",
   "metadata": {},
   "source": [
    "### 파라미터"
   ]
  },
  {
   "cell_type": "code",
   "execution_count": 18,
   "id": "saving-genius",
   "metadata": {},
   "outputs": [],
   "source": [
    "EPOCHS = 10\n",
    "DATASET_PATH = 'dataset/2'\n",
    "DATASET_OK_PATTERN = DATASET_PATH + '/OK/*.png'\n",
    "DATASET_FAIL_PATTERN = DATASET_PATH + '/FAIL/*.png'\n",
    "RESULT_SAVE_PATH = DATASET_PATH + '/results'"
   ]
  },
  {
   "cell_type": "code",
   "execution_count": 19,
   "id": "juvenile-baltimore",
   "metadata": {},
   "outputs": [
    {
     "data": {
      "text/plain": [
       "('dataset/2/OK/*.png', 'dataset/2/FAIL/*.png', 'dataset/2/results')"
      ]
     },
     "execution_count": 19,
     "metadata": {},
     "output_type": "execute_result"
    }
   ],
   "source": [
    "DATASET_OK_PATTERN, DATASET_FAIL_PATTERN, RESULT_SAVE_PATH"
   ]
  },
  {
   "cell_type": "markdown",
   "id": "wound-kennedy",
   "metadata": {},
   "source": [
    "## 단순 모델 설정"
   ]
  },
  {
   "cell_type": "code",
   "execution_count": 6,
   "id": "polished-mapping",
   "metadata": {},
   "outputs": [],
   "source": [
    "def Model():\n",
    "    return Sequential([\n",
    "        Conv2D(32, (3, 3), activation='relu', input_shape=(256, 256, 1)),\n",
    "        MaxPool2D(),\n",
    "        Conv2D(64, (3, 3), activation='relu'),\n",
    "        MaxPool2D(),\n",
    "        Conv2D(128, (3, 3), activation='relu'),\n",
    "        MaxPool2D(),\n",
    "        Conv2D(256, (3, 3), activation='relu'),\n",
    "        MaxPool2D(),\n",
    "        Flatten(),\n",
    "        Dense(1, activation='sigmoid')\n",
    "    ])"
   ]
  },
  {
   "cell_type": "markdown",
   "id": "accomplished-trainer",
   "metadata": {},
   "source": [
    "### 데이터셋 불러오기"
   ]
  },
  {
   "cell_type": "code",
   "execution_count": 7,
   "id": "brutal-acrylic",
   "metadata": {},
   "outputs": [],
   "source": [
    "def preprocess(file_name):\n",
    "    img = tf.io.read_file(file_name)\n",
    "    img = tf.image.decode_png(img, channels=1)\n",
    "    return tf.image.convert_image_dtype(img, tf.float32)"
   ]
  },
  {
   "cell_type": "code",
   "execution_count": 9,
   "id": "alert-welsh",
   "metadata": {},
   "outputs": [],
   "source": [
    "ok_list = glob.glob(DATASET_OK_PATTERN)\n",
    "ds_ok = tf.data.Dataset.list_files(ok_list)\n",
    "ds_ok_label = tf.data.Dataset.from_tensor_slices([0] * len(ok_list))\n",
    "\n",
    "ds_ok = ds_ok.map(preprocess)\n",
    "ds_ok = tf.data.Dataset.zip((ds_ok, ds_ok_label))"
   ]
  },
  {
   "cell_type": "code",
   "execution_count": 10,
   "id": "chief-final",
   "metadata": {},
   "outputs": [],
   "source": [
    "fail_list = glob.glob(DATASET_FAIL_PATTERN)\n",
    "ds_fail = tf.data.Dataset.list_files(fail_list)\n",
    "ds_fail_label = tf.data.Dataset.from_tensor_slices([1] * len(fail_list))\n",
    "\n",
    "ds_fail = ds_fail.map(preprocess)\n",
    "ds_fail = tf.data.Dataset.zip((ds_fail, ds_fail_label))"
   ]
  },
  {
   "cell_type": "code",
   "execution_count": 11,
   "id": "abandoned-overview",
   "metadata": {},
   "outputs": [],
   "source": [
    "ds = tf.data.Dataset.concatenate(ds_ok, ds_fail)"
   ]
  },
  {
   "cell_type": "markdown",
   "id": "spiritual-terminal",
   "metadata": {},
   "source": [
    "### Train, Valid 데이터셋 나누기"
   ]
  },
  {
   "cell_type": "code",
   "execution_count": 12,
   "id": "worthy-webcam",
   "metadata": {},
   "outputs": [],
   "source": [
    "ds_size = len(ok_list) + len(fail_list)\n",
    "train_size = int(ds_size * 0.7)\n",
    "\n",
    "ds = ds.shuffle(ds_size)\n",
    "ds_train = ds.take(train_size).shuffle(1024, reshuffle_each_iteration=True).batch(32)\n",
    "ds_valid = ds.skip(train_size).batch(32)"
   ]
  },
  {
   "cell_type": "markdown",
   "id": "requested-courtesy",
   "metadata": {},
   "source": [
    "### 모델 생성 및 학습"
   ]
  },
  {
   "cell_type": "code",
   "execution_count": 15,
   "id": "alternate-pierre",
   "metadata": {},
   "outputs": [],
   "source": [
    "model = Model()\n",
    "model.compile(loss='binary_crossentropy', optimizer='adam', metrics=['accuracy'])"
   ]
  },
  {
   "cell_type": "code",
   "execution_count": 16,
   "id": "outdoor-safety",
   "metadata": {},
   "outputs": [
    {
     "name": "stdout",
     "output_type": "stream",
     "text": [
      "Epoch 1/10\n",
      "21/21 [==============================] - 65s 2s/step - loss: 0.4918 - accuracy: 0.8742 - val_loss: 0.3940 - val_accuracy: 0.8662\n",
      "Epoch 2/10\n",
      "21/21 [==============================] - 9s 248ms/step - loss: 0.3748 - accuracy: 0.8831 - val_loss: 0.3891 - val_accuracy: 0.8662\n",
      "Epoch 3/10\n",
      "21/21 [==============================] - 9s 253ms/step - loss: 0.3452 - accuracy: 0.8856 - val_loss: 0.4153 - val_accuracy: 0.8486\n",
      "Epoch 4/10\n",
      "21/21 [==============================] - 9s 245ms/step - loss: 0.3458 - accuracy: 0.8799 - val_loss: 0.3090 - val_accuracy: 0.8944\n",
      "Epoch 5/10\n",
      "21/21 [==============================] - 9s 250ms/step - loss: 0.3757 - accuracy: 0.8722 - val_loss: 0.4790 - val_accuracy: 0.8451\n",
      "Epoch 6/10\n",
      "21/21 [==============================] - 9s 250ms/step - loss: 0.3924 - accuracy: 0.8663 - val_loss: 0.3191 - val_accuracy: 0.9085\n",
      "Epoch 7/10\n",
      "21/21 [==============================] - 9s 246ms/step - loss: 0.3417 - accuracy: 0.8756 - val_loss: 0.3402 - val_accuracy: 0.8697\n",
      "Epoch 8/10\n",
      "21/21 [==============================] - 4s 111ms/step - loss: 0.3183 - accuracy: 0.8853 - val_loss: 0.3429 - val_accuracy: 0.8768\n",
      "Epoch 9/10\n",
      "21/21 [==============================] - 7s 246ms/step - loss: 0.3888 - accuracy: 0.8624 - val_loss: 0.3965 - val_accuracy: 0.8627\n",
      "Epoch 10/10\n",
      "21/21 [==============================] - 9s 250ms/step - loss: 0.4135 - accuracy: 0.8613 - val_loss: 0.3203 - val_accuracy: 0.8944\n"
     ]
    },
    {
     "data": {
      "text/plain": [
       "<tensorflow.python.keras.callbacks.History at 0x7f198958d110>"
      ]
     },
     "execution_count": 16,
     "metadata": {},
     "output_type": "execute_result"
    }
   ],
   "source": [
    "h = model.fit(ds_train, validation_data=ds_valid, epochs=EPOCHS)"
   ]
  },
  {
   "cell_type": "markdown",
   "id": "english-fifty",
   "metadata": {},
   "source": [
    "## 결과 저장"
   ]
  },
  {
   "cell_type": "code",
   "execution_count": 17,
   "id": "grand-friend",
   "metadata": {},
   "outputs": [],
   "source": [
    "def mkdir(path):\n",
    "    if os.path.exists(path) is False:\n",
    "        os.mkdir(path)"
   ]
  },
  {
   "cell_type": "code",
   "execution_count": 22,
   "id": "raised-thailand",
   "metadata": {},
   "outputs": [],
   "source": [
    "mkdir(RESULT_SAVE_PATH)\n",
    "mkdir(RESULT_SAVE_PATH + '/TP')\n",
    "mkdir(RESULT_SAVE_PATH + '/TN')\n",
    "mkdir(RESULT_SAVE_PATH + '/FP')\n",
    "mkdir(RESULT_SAVE_PATH + '/FN')"
   ]
  },
  {
   "cell_type": "code",
   "execution_count": 23,
   "id": "ethical-trout",
   "metadata": {},
   "outputs": [],
   "source": [
    "index = 0\n",
    "for imgs, labels in ds_valid:\n",
    "    preds = model.predict(imgs)\n",
    "    for idx in range(imgs.shape[0]):\n",
    "        gt = labels[idx].numpy()\n",
    "        y = preds[idx]\n",
    "        if gt == 1 and y > 0.5:\n",
    "            path = RESULT_SAVE_PATH + '/TP'\n",
    "        elif gt == 1 and y <= 0.5:\n",
    "            path = RESULT_SAVE_PATH + '/FN'\n",
    "        elif gt == 0 and y > 0.5:\n",
    "            path = RESULT_SAVE_PATH + '/FP'\n",
    "        else:\n",
    "            path = RESULT_SAVE_PATH + '/TN'\n",
    "        cv2.imwrite(path + '/%.4f_%04d.png' % (y, index), imgs[idx].numpy() * 255)\n",
    "        index += 1"
   ]
  },
  {
   "cell_type": "code",
   "execution_count": null,
   "id": "moderate-manual",
   "metadata": {},
   "outputs": [],
   "source": []
  }
 ],
 "metadata": {
  "kernelspec": {
   "display_name": "Python 3",
   "language": "python",
   "name": "python3"
  },
  "language_info": {
   "codemirror_mode": {
    "name": "ipython",
    "version": 3
   },
   "file_extension": ".py",
   "mimetype": "text/x-python",
   "name": "python",
   "nbconvert_exporter": "python",
   "pygments_lexer": "ipython3",
   "version": "3.7.9"
  }
 },
 "nbformat": 4,
 "nbformat_minor": 5
}
