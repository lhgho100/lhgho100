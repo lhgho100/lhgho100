{
 "cells": [
  {
   "cell_type": "code",
   "execution_count": 1,
   "id": "reduced-lyric",
   "metadata": {},
   "outputs": [],
   "source": [
    "import warnings\n",
    "warnings.filterwarnings(action='ignore')"
   ]
  },
  {
   "cell_type": "code",
   "execution_count": 2,
   "id": "considerable-gallery",
   "metadata": {},
   "outputs": [],
   "source": [
    "import os\n",
    "import tensorflow as tf"
   ]
  },
  {
   "cell_type": "code",
   "execution_count": 3,
   "id": "mechanical-cathedral",
   "metadata": {},
   "outputs": [],
   "source": [
    "work_dir = './dogs_cats/data/'\n",
    "image_height, image_width = 150, 150\n",
    "train_dir = os.path.join(work_dir, 'train')\n",
    "test_dir = os.path.join(work_dir, 'test')\n",
    "\n",
    "no_classes = 2\n",
    "no_validation = 800\n",
    "epochs = 2\n",
    "batch_size = 200\n",
    "no_train = 2000\n",
    "no_test = 800\n",
    "input_shape = (image_height, image_width, 3)\n",
    "epoch_steps = no_train // batch_size\n",
    "test_steps = no_test // batch_size"
   ]
  },
  {
   "cell_type": "code",
   "execution_count": 4,
   "id": "color-slave",
   "metadata": {},
   "outputs": [],
   "source": [
    "def simple_cnn(input_shape):\n",
    "    model = tf.keras.models.Sequential()\n",
    "    model.add(tf.keras.layers.Conv2D(filters=64,\n",
    "                                     kernel_size=(3,3),\n",
    "                                     activation='relu',\n",
    "                                     input_shape=input_shape))\n",
    "    model.add(tf.keras.layers.Conv2D(filters=128,\n",
    "                                    kernel_size=(3,3),\n",
    "                                    activation='relu'))\n",
    "    model.add(tf.keras.layers.MaxPooling2D(pool_size=(2,2)))\n",
    "    model.add(tf.keras.layers.Dropout(rate=0.3))\n",
    "    model.add(tf.keras.layers.Flatten())\n",
    "    model.add(tf.keras.layers.Dense(units=1024, activation='relu'))\n",
    "    model.add(tf.keras.layers.Dropout(rate=0.3))\n",
    "    model.add(tf.keras.layers.Dense(units=no_classes, activation='softmax'))\n",
    "    model.compile(loss=tf.keras.losses.categorical_crossentropy, \n",
    "                  optimizer=tf.keras.optimizers.Adam(),\n",
    "                  metrics=['accuracy'])\n",
    "    return model"
   ]
  },
  {
   "cell_type": "code",
   "execution_count": 5,
   "id": "apart-increase",
   "metadata": {},
   "outputs": [
    {
     "name": "stdout",
     "output_type": "stream",
     "text": [
      "WARNING:tensorflow:From C:\\ProgramData\\Anaconda3\\envs\\cvtf1.15\\lib\\site-packages\\tensorflow_core\\python\\ops\\resource_variable_ops.py:1630: calling BaseResourceVariable.__init__ (from tensorflow.python.ops.resource_variable_ops) with constraint is deprecated and will be removed in a future version.\n",
      "Instructions for updating:\n",
      "If using Keras pass *_constraint arguments to layers.\n"
     ]
    }
   ],
   "source": [
    "simple_cnn_model = simple_cnn(input_shape)"
   ]
  },
  {
   "cell_type": "code",
   "execution_count": 6,
   "id": "japanese-nursery",
   "metadata": {},
   "outputs": [],
   "source": [
    "generator_train = tf.keras.preprocessing.image.ImageDataGenerator(rescale=1. / 255,\n",
    "                                                                 horizontal_flip=True,\n",
    "                                                                 zoom_range=0.3,\n",
    "                                                                 shear_range=0.3)"
   ]
  },
  {
   "cell_type": "code",
   "execution_count": 7,
   "id": "spoken-ribbon",
   "metadata": {},
   "outputs": [],
   "source": [
    "generator_test = tf.keras.preprocessing.image.ImageDataGenerator(rescale=1. / 255)"
   ]
  },
  {
   "cell_type": "code",
   "execution_count": 8,
   "id": "beneficial-maryland",
   "metadata": {},
   "outputs": [
    {
     "name": "stdout",
     "output_type": "stream",
     "text": [
      "Found 2000 images belonging to 2 classes.\n"
     ]
    }
   ],
   "source": [
    "train_images = generator_train.flow_from_directory(train_dir,\n",
    "                                                  batch_size=batch_size,\n",
    "                                                  target_size=(image_width, image_height))"
   ]
  },
  {
   "cell_type": "code",
   "execution_count": 9,
   "id": "theoretical-saying",
   "metadata": {},
   "outputs": [
    {
     "name": "stdout",
     "output_type": "stream",
     "text": [
      "Found 800 images belonging to 2 classes.\n"
     ]
    }
   ],
   "source": [
    "test_images = generator_test.flow_from_directory(test_dir,\n",
    "                                                  batch_size=batch_size,\n",
    "                                                  target_size=(image_width, image_height))"
   ]
  },
  {
   "cell_type": "code",
   "execution_count": 10,
   "id": "intended-helicopter",
   "metadata": {},
   "outputs": [
    {
     "name": "stdout",
     "output_type": "stream",
     "text": [
      "Epoch 1/2\n",
      " 9/10 [==========================>...] - ETA: 16s - loss: 24.3951 - acc: 0.4883Epoch 1/2\n",
      "10/10 [==============================] - 181s 18s/step - loss: 22.0241 - acc: 0.4965 - val_loss: 0.7115 - val_acc: 0.5038\n",
      "Epoch 2/2\n",
      " 9/10 [==========================>...] - ETA: 13s - loss: 0.6868 - acc: 0.5583Epoch 1/2\n",
      "10/10 [==============================] - 155s 16s/step - loss: 0.6819 - acc: 0.5670 - val_loss: 0.6812 - val_acc: 0.6150\n"
     ]
    },
    {
     "data": {
      "text/plain": [
       "<tensorflow.python.keras.callbacks.History at 0x1c5ac71e848>"
      ]
     },
     "execution_count": 10,
     "metadata": {},
     "output_type": "execute_result"
    }
   ],
   "source": [
    "simple_cnn_model.fit_generator(train_images, steps_per_epoch=epoch_steps,\n",
    "                               epochs=epochs,\n",
    "                               validation_data=test_images,\n",
    "                               validation_steps=test_steps)"
   ]
  },
  {
   "cell_type": "code",
   "execution_count": 11,
   "id": "sixth-dutch",
   "metadata": {},
   "outputs": [
    {
     "name": "stdout",
     "output_type": "stream",
     "text": [
      "Model: \"sequential\"\n",
      "_________________________________________________________________\n",
      "Layer (type)                 Output Shape              Param #   \n",
      "=================================================================\n",
      "conv2d (Conv2D)              (None, 148, 148, 64)      1792      \n",
      "_________________________________________________________________\n",
      "conv2d_1 (Conv2D)            (None, 146, 146, 128)     73856     \n",
      "_________________________________________________________________\n",
      "max_pooling2d (MaxPooling2D) (None, 73, 73, 128)       0         \n",
      "_________________________________________________________________\n",
      "dropout (Dropout)            (None, 73, 73, 128)       0         \n",
      "_________________________________________________________________\n",
      "flatten (Flatten)            (None, 682112)            0         \n",
      "_________________________________________________________________\n",
      "dense (Dense)                (None, 1024)              698483712 \n",
      "_________________________________________________________________\n",
      "dropout_1 (Dropout)          (None, 1024)              0         \n",
      "_________________________________________________________________\n",
      "dense_1 (Dense)              (None, 2)                 2050      \n",
      "=================================================================\n",
      "Total params: 698,561,410\n",
      "Trainable params: 698,561,410\n",
      "Non-trainable params: 0\n",
      "_________________________________________________________________\n"
     ]
    }
   ],
   "source": [
    "simple_cnn_model.summary()"
   ]
  },
  {
   "cell_type": "code",
   "execution_count": null,
   "id": "faced-annex",
   "metadata": {},
   "outputs": [],
   "source": []
  }
 ],
 "metadata": {
  "kernelspec": {
   "display_name": "Python 3",
   "language": "python",
   "name": "python3"
  },
  "language_info": {
   "codemirror_mode": {
    "name": "ipython",
    "version": 3
   },
   "file_extension": ".py",
   "mimetype": "text/x-python",
   "name": "python",
   "nbconvert_exporter": "python",
   "pygments_lexer": "ipython3",
   "version": "3.7.9"
  }
 },
 "nbformat": 4,
 "nbformat_minor": 5
}
