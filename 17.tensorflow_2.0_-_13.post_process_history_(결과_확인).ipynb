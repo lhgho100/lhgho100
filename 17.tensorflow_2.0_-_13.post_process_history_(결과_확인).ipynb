{
 "cells": [
  {
   "cell_type": "markdown",
   "metadata": {},
   "source": [
    "# TensorFlow 2.0"
   ]
  },
  {
   "cell_type": "code",
   "execution_count": 1,
   "metadata": {},
   "outputs": [],
   "source": [
    "import os\n",
    "from glob import glob\n",
    "from datetime import datetime\n",
    "\n",
    "import numpy as np\n",
    "\n",
    "import tensorflow as tf\n",
    "from tensorflow.keras import layers\n",
    "\n",
    "from tensorflow.keras import datasets \n",
    "\n",
    "import matplotlib.pyplot as plt\n",
    "\n",
    "%matplotlib inline"
   ]
  },
  {
   "cell_type": "markdown",
   "metadata": {},
   "source": [
    "## Hyperparameter Tunning"
   ]
  },
  {
   "cell_type": "code",
   "execution_count": 2,
   "metadata": {},
   "outputs": [],
   "source": [
    "num_epochs = 50\n",
    "batch_size = 32\n",
    "\n",
    "learning_rate = 0.001\n",
    "\n",
    "dropout_rate = 0.5\n",
    "\n",
    "input_shape = (32, 32, 3)\n",
    "num_classes = 10"
   ]
  },
  {
   "cell_type": "markdown",
   "metadata": {},
   "source": [
    "## Build Model"
   ]
  },
  {
   "cell_type": "code",
   "execution_count": 3,
   "metadata": {},
   "outputs": [],
   "source": [
    "inputs = layers.Input(input_shape)\n",
    "\n",
    "net = layers.Conv2D(32, (3, 3), padding='SAME')(inputs)\n",
    "net = layers.Activation('relu')(net)\n",
    "net = layers.Conv2D(32, (3, 3), padding='SAME')(net)\n",
    "net = layers.Activation('relu')(net)\n",
    "net = layers.MaxPooling2D(pool_size=(2, 2))(net)\n",
    "net = layers.Dropout(dropout_rate)(net)\n",
    "\n",
    "net = layers.Conv2D(64, (3, 3), padding='SAME')(net)\n",
    "net = layers.Activation('relu')(net)\n",
    "net = layers.Conv2D(64, (3, 3), padding='SAME')(net)\n",
    "net = layers.Activation('relu')(net)\n",
    "net = layers.MaxPooling2D(pool_size=(2, 2))(net)\n",
    "net = layers.Dropout(dropout_rate)(net)\n",
    "\n",
    "net = layers.Flatten()(net)\n",
    "net = layers.Dense(512)(net)\n",
    "net = layers.Activation('relu')(net)\n",
    "net = layers.Dropout(dropout_rate)(net)\n",
    "net = layers.Dense(num_classes)(net)\n",
    "net = layers.Activation('softmax')(net)\n",
    "\n",
    "model = tf.keras.Model(inputs=inputs, outputs=net, name='Basic_CNN')"
   ]
  },
  {
   "cell_type": "code",
   "execution_count": 4,
   "metadata": {},
   "outputs": [],
   "source": [
    "# Model is the full model w/o custom layers\n",
    "model.compile(optimizer=tf.keras.optimizers.Adam(learning_rate),  # Optimization\n",
    "              loss='sparse_categorical_crossentropy',  # Loss Function \n",
    "              metrics=['accuracy'])  # Metrics / Accuracy"
   ]
  },
  {
   "cell_type": "markdown",
   "metadata": {},
   "source": [
    "# Data Preprocess"
   ]
  },
  {
   "cell_type": "code",
   "execution_count": 5,
   "metadata": {},
   "outputs": [],
   "source": [
    "train_paths = glob('dataset/cifar/train/*.png')[:1000]\n",
    "test_paths = glob('dataset/cifar/test/*.png')[:1000]"
   ]
  },
  {
   "cell_type": "code",
   "execution_count": 6,
   "metadata": {},
   "outputs": [],
   "source": [
    "def get_class_name(path):\n",
    "    return path.split('_')[-1].replace('.png', '')"
   ]
  },
  {
   "cell_type": "code",
   "execution_count": 7,
   "metadata": {},
   "outputs": [],
   "source": [
    "train_labels = [get_class_name(path) for path in train_paths]\n",
    "class_names = np.unique(train_labels)"
   ]
  },
  {
   "cell_type": "code",
   "execution_count": 8,
   "metadata": {},
   "outputs": [],
   "source": [
    "def get_label(path):\n",
    "    fname = tf.strings.split(path, '_')[-1]\n",
    "    lbl_name = tf.strings.regex_replace(fname, '.png', '')\n",
    "    onehot = tf.cast(lbl_name == class_names, tf.uint8)\n",
    "    return tf.argmax(onehot)  # 이번에는 onehot이 아닌 label 번호로"
   ]
  },
  {
   "cell_type": "code",
   "execution_count": 9,
   "metadata": {},
   "outputs": [],
   "source": [
    "def load_image_label(path):\n",
    "    gfile = tf.io.read_file(path)\n",
    "    image = tf.io.decode_image(gfile)\n",
    "    image = tf.cast(image, tf.float32) / 255.  # rescale\n",
    "    \n",
    "    label = get_label(path)\n",
    "    return image, label"
   ]
  },
  {
   "cell_type": "code",
   "execution_count": 10,
   "metadata": {},
   "outputs": [],
   "source": [
    "def image_preprocess(image, label):\n",
    "    image = tf.image.random_flip_up_down(image)\n",
    "    image = tf.image.random_flip_left_right(image)\n",
    "    return image, label"
   ]
  },
  {
   "cell_type": "code",
   "execution_count": 11,
   "metadata": {},
   "outputs": [],
   "source": [
    "AUTOTUNE = tf.data.experimental.AUTOTUNE"
   ]
  },
  {
   "cell_type": "code",
   "execution_count": 12,
   "metadata": {},
   "outputs": [],
   "source": [
    "train_dataset = tf.data.Dataset.from_tensor_slices(train_paths)\n",
    "train_dataset = train_dataset.map(load_image_label, num_parallel_calls=AUTOTUNE)\n",
    "train_dataset = train_dataset.map(image_preprocess, num_parallel_calls=AUTOTUNE)\n",
    "train_dataset = train_dataset.batch(batch_size)\n",
    "train_dataset = train_dataset.shuffle(buffer_size=len(train_paths))\n",
    "train_dataset = train_dataset.repeat()"
   ]
  },
  {
   "cell_type": "code",
   "execution_count": 13,
   "metadata": {},
   "outputs": [],
   "source": [
    "test_dataset = tf.data.Dataset.from_tensor_slices(test_paths)\n",
    "test_dataset = test_dataset.map(load_image_label, num_parallel_calls=AUTOTUNE)\n",
    "test_dataset = test_dataset.batch(batch_size)\n",
    "test_dataset = test_dataset.repeat()"
   ]
  },
  {
   "cell_type": "markdown",
   "metadata": {},
   "source": [
    "## Training"
   ]
  },
  {
   "cell_type": "markdown",
   "metadata": {},
   "source": [
    "http://localhost:6006"
   ]
  },
  {
   "cell_type": "code",
   "execution_count": 14,
   "metadata": {},
   "outputs": [
    {
     "name": "stderr",
     "output_type": "stream",
     "text": [
      "/Users/lecturer/opt/anaconda3/envs/cvtf2/lib/python3.7/site-packages/tensorflow/python/keras/engine/training.py:1844: UserWarning: `Model.fit_generator` is deprecated and will be removed in a future version. Please use `Model.fit`, which supports generators.\n",
      "  warnings.warn('`Model.fit_generator` is deprecated and '\n"
     ]
    },
    {
     "name": "stdout",
     "output_type": "stream",
     "text": [
      "Epoch 1/50\n",
      "31/31 [==============================] - 5s 112ms/step - loss: 2.3898 - accuracy: 0.0985 - val_loss: 2.3005 - val_accuracy: 0.0907\n",
      "Epoch 2/50\n",
      "31/31 [==============================] - 2s 79ms/step - loss: 2.2981 - accuracy: 0.1101 - val_loss: 2.2548 - val_accuracy: 0.1240\n",
      "Epoch 3/50\n",
      "31/31 [==============================] - 2s 80ms/step - loss: 2.2404 - accuracy: 0.1365 - val_loss: 2.1952 - val_accuracy: 0.1905\n",
      "Epoch 4/50\n",
      "31/31 [==============================] - 2s 79ms/step - loss: 2.1988 - accuracy: 0.1927 - val_loss: 2.0503 - val_accuracy: 0.2117\n",
      "Epoch 5/50\n",
      "31/31 [==============================] - 2s 77ms/step - loss: 2.1010 - accuracy: 0.1987 - val_loss: 1.9197 - val_accuracy: 0.2651\n",
      "Epoch 6/50\n",
      "31/31 [==============================] - 2s 79ms/step - loss: 1.9665 - accuracy: 0.2732 - val_loss: 1.8837 - val_accuracy: 0.3246\n",
      "Epoch 7/50\n",
      "31/31 [==============================] - 2s 80ms/step - loss: 1.9050 - accuracy: 0.2898 - val_loss: 1.8708 - val_accuracy: 0.3135\n",
      "Epoch 8/50\n",
      "31/31 [==============================] - 2s 80ms/step - loss: 1.8424 - accuracy: 0.3344 - val_loss: 1.8529 - val_accuracy: 0.3165\n",
      "Epoch 9/50\n",
      "31/31 [==============================] - 3s 84ms/step - loss: 1.8184 - accuracy: 0.3302 - val_loss: 1.8083 - val_accuracy: 0.3216\n",
      "Epoch 10/50\n",
      "31/31 [==============================] - 3s 84ms/step - loss: 1.8262 - accuracy: 0.3142 - val_loss: 1.7940 - val_accuracy: 0.3236\n",
      "Epoch 11/50\n",
      "31/31 [==============================] - 2s 80ms/step - loss: 1.7733 - accuracy: 0.3253 - val_loss: 1.7224 - val_accuracy: 0.3589\n",
      "Epoch 12/50\n",
      "31/31 [==============================] - 2s 79ms/step - loss: 1.7912 - accuracy: 0.3469 - val_loss: 1.7664 - val_accuracy: 0.3226\n",
      "Epoch 13/50\n",
      "31/31 [==============================] - 2s 81ms/step - loss: 1.7877 - accuracy: 0.3243 - val_loss: 1.9103 - val_accuracy: 0.3256\n",
      "Epoch 14/50\n",
      "31/31 [==============================] - 2s 80ms/step - loss: 1.7710 - accuracy: 0.3074 - val_loss: 1.7085 - val_accuracy: 0.3770\n",
      "Epoch 15/50\n",
      "31/31 [==============================] - 2s 81ms/step - loss: 1.6973 - accuracy: 0.3512 - val_loss: 1.7032 - val_accuracy: 0.3458\n",
      "Epoch 16/50\n",
      "31/31 [==============================] - 3s 85ms/step - loss: 1.7022 - accuracy: 0.3626 - val_loss: 1.7231 - val_accuracy: 0.3619\n",
      "Epoch 17/50\n",
      "31/31 [==============================] - 3s 85ms/step - loss: 1.6135 - accuracy: 0.3721 - val_loss: 1.7099 - val_accuracy: 0.3579\n",
      "Epoch 18/50\n",
      "31/31 [==============================] - 3s 83ms/step - loss: 1.5993 - accuracy: 0.3886 - val_loss: 1.7139 - val_accuracy: 0.3760\n",
      "Epoch 19/50\n",
      "31/31 [==============================] - 3s 86ms/step - loss: 1.6056 - accuracy: 0.3956 - val_loss: 1.6731 - val_accuracy: 0.3518\n",
      "Epoch 20/50\n",
      "31/31 [==============================] - 3s 89ms/step - loss: 1.5646 - accuracy: 0.3967 - val_loss: 1.6568 - val_accuracy: 0.3760\n",
      "Epoch 21/50\n",
      "31/31 [==============================] - 3s 89ms/step - loss: 1.5675 - accuracy: 0.4244 - val_loss: 1.6875 - val_accuracy: 0.3891\n",
      "Epoch 22/50\n",
      "31/31 [==============================] - 3s 90ms/step - loss: 1.4962 - accuracy: 0.4368 - val_loss: 1.6759 - val_accuracy: 0.3619\n",
      "Epoch 23/50\n",
      "31/31 [==============================] - 3s 90ms/step - loss: 1.5091 - accuracy: 0.4383 - val_loss: 1.6541 - val_accuracy: 0.4073\n",
      "Epoch 24/50\n",
      "31/31 [==============================] - 3s 92ms/step - loss: 1.5323 - accuracy: 0.4255 - val_loss: 1.6284 - val_accuracy: 0.3982\n",
      "Epoch 25/50\n",
      "31/31 [==============================] - 3s 88ms/step - loss: 1.4600 - accuracy: 0.4510 - val_loss: 1.7454 - val_accuracy: 0.3347\n",
      "Epoch 26/50\n",
      "31/31 [==============================] - 3s 88ms/step - loss: 1.4725 - accuracy: 0.4637 - val_loss: 1.6517 - val_accuracy: 0.4012\n",
      "Epoch 27/50\n",
      "31/31 [==============================] - 3s 84ms/step - loss: 1.4101 - accuracy: 0.4549 - val_loss: 1.6507 - val_accuracy: 0.4012\n",
      "Epoch 28/50\n",
      "31/31 [==============================] - 3s 86ms/step - loss: 1.4858 - accuracy: 0.4486 - val_loss: 1.6768 - val_accuracy: 0.3750\n",
      "Epoch 29/50\n",
      "31/31 [==============================] - 3s 87ms/step - loss: 1.4134 - accuracy: 0.4401 - val_loss: 1.6330 - val_accuracy: 0.4123\n",
      "Epoch 30/50\n",
      "31/31 [==============================] - 3s 94ms/step - loss: 1.3938 - accuracy: 0.4794 - val_loss: 1.5792 - val_accuracy: 0.4385\n",
      "Epoch 31/50\n",
      "31/31 [==============================] - 3s 89ms/step - loss: 1.2630 - accuracy: 0.5096 - val_loss: 1.6617 - val_accuracy: 0.4022\n",
      "Epoch 32/50\n",
      "31/31 [==============================] - 3s 96ms/step - loss: 1.3642 - accuracy: 0.4931 - val_loss: 1.5885 - val_accuracy: 0.4284\n",
      "Epoch 33/50\n",
      "31/31 [==============================] - 3s 94ms/step - loss: 1.3194 - accuracy: 0.5081 - val_loss: 1.5928 - val_accuracy: 0.4254\n",
      "Epoch 34/50\n",
      "31/31 [==============================] - 3s 88ms/step - loss: 1.2310 - accuracy: 0.5088 - val_loss: 1.5788 - val_accuracy: 0.4345\n",
      "Epoch 35/50\n",
      "31/31 [==============================] - 3s 91ms/step - loss: 1.2544 - accuracy: 0.5133 - val_loss: 1.5836 - val_accuracy: 0.4516\n",
      "Epoch 36/50\n",
      "31/31 [==============================] - 3s 92ms/step - loss: 1.3037 - accuracy: 0.5181 - val_loss: 1.5732 - val_accuracy: 0.4284\n",
      "Epoch 37/50\n",
      "31/31 [==============================] - 3s 95ms/step - loss: 1.2096 - accuracy: 0.5393 - val_loss: 1.5724 - val_accuracy: 0.4375\n",
      "Epoch 38/50\n",
      "31/31 [==============================] - 3s 91ms/step - loss: 1.1669 - accuracy: 0.5442 - val_loss: 1.6445 - val_accuracy: 0.4254\n",
      "Epoch 39/50\n",
      "31/31 [==============================] - 3s 96ms/step - loss: 1.2281 - accuracy: 0.5574 - val_loss: 1.7000 - val_accuracy: 0.4123\n",
      "Epoch 40/50\n",
      "31/31 [==============================] - 3s 95ms/step - loss: 1.1354 - accuracy: 0.5883 - val_loss: 1.6450 - val_accuracy: 0.4304\n",
      "Epoch 41/50\n",
      "31/31 [==============================] - 3s 97ms/step - loss: 1.1881 - accuracy: 0.5679 - val_loss: 1.6367 - val_accuracy: 0.4375\n",
      "Epoch 42/50\n",
      "31/31 [==============================] - 3s 97ms/step - loss: 1.2176 - accuracy: 0.5559 - val_loss: 1.6411 - val_accuracy: 0.4274\n",
      "Epoch 43/50\n",
      "31/31 [==============================] - 3s 94ms/step - loss: 1.0679 - accuracy: 0.6244 - val_loss: 1.6385 - val_accuracy: 0.4456\n",
      "Epoch 44/50\n",
      "31/31 [==============================] - 3s 97ms/step - loss: 1.0979 - accuracy: 0.6105 - val_loss: 1.6244 - val_accuracy: 0.4425\n",
      "Epoch 45/50\n",
      "31/31 [==============================] - 3s 96ms/step - loss: 1.1516 - accuracy: 0.5657 - val_loss: 1.5936 - val_accuracy: 0.4446\n",
      "Epoch 46/50\n",
      "31/31 [==============================] - 3s 100ms/step - loss: 1.1039 - accuracy: 0.5941 - val_loss: 1.6052 - val_accuracy: 0.4597\n",
      "Epoch 47/50\n",
      "31/31 [==============================] - 3s 96ms/step - loss: 1.0455 - accuracy: 0.6162 - val_loss: 1.6409 - val_accuracy: 0.4546\n",
      "Epoch 48/50\n",
      "31/31 [==============================] - 3s 95ms/step - loss: 1.0610 - accuracy: 0.6156 - val_loss: 1.7256 - val_accuracy: 0.4395\n",
      "Epoch 49/50\n",
      "31/31 [==============================] - 3s 95ms/step - loss: 1.1445 - accuracy: 0.5873 - val_loss: 1.6571 - val_accuracy: 0.4435\n",
      "Epoch 50/50\n",
      "31/31 [==============================] - 3s 90ms/step - loss: 1.0522 - accuracy: 0.5992 - val_loss: 1.6430 - val_accuracy: 0.4627\n"
     ]
    }
   ],
   "source": [
    "steps_per_epoch = len(train_paths) // batch_size\n",
    "validation_steps = len(test_paths) // batch_size\n",
    "\n",
    "history = model.fit_generator(\n",
    "    train_dataset,\n",
    "    steps_per_epoch=steps_per_epoch,\n",
    "    validation_data=test_dataset,\n",
    "    validation_steps=validation_steps,\n",
    "    epochs=num_epochs\n",
    ")"
   ]
  },
  {
   "cell_type": "markdown",
   "metadata": {},
   "source": [
    "# History 들여다 보기 "
   ]
  },
  {
   "cell_type": "code",
   "execution_count": 15,
   "metadata": {},
   "outputs": [
    {
     "data": {
      "text/plain": [
       "dict_keys(['loss', 'accuracy', 'val_loss', 'val_accuracy'])"
      ]
     },
     "execution_count": 15,
     "metadata": {},
     "output_type": "execute_result"
    }
   ],
   "source": [
    "history.history.keys()"
   ]
  },
  {
   "cell_type": "code",
   "execution_count": 16,
   "metadata": {},
   "outputs": [
    {
     "data": {
      "text/plain": [
       "{'verbose': 1, 'epochs': 50, 'steps': 31}"
      ]
     },
     "execution_count": 16,
     "metadata": {},
     "output_type": "execute_result"
    }
   ],
   "source": [
    "history.params"
   ]
  },
  {
   "cell_type": "code",
   "execution_count": 17,
   "metadata": {},
   "outputs": [],
   "source": [
    "new_model = history.model"
   ]
  },
  {
   "cell_type": "code",
   "execution_count": 18,
   "metadata": {},
   "outputs": [
    {
     "data": {
      "image/png": "[encoded data removed]",
      "text/plain": [
       "<Figure size 432x288 with 1 Axes>"
      ]
     },
     "metadata": {
      "needs_background": "light"
     },
     "output_type": "display_data"
    }
   ],
   "source": [
    "plt.plot(history.history['accuracy'])\n",
    "plt.plot(history.history['val_accuracy'])\n",
    "plt.title(\"Model Accuracy\")\n",
    "plt.ylabel('accuracy')\n",
    "plt.xlabel('epoch')\n",
    "plt.legend(['train', 'validation'])\n",
    "plt.show()"
   ]
  },
  {
   "cell_type": "code",
   "execution_count": 32,
   "metadata": {},
   "outputs": [
    {
     "data": {
      "image/png": "[encoded data removed]",
      "text/plain": [
       "<Figure size 432x288 with 1 Axes>"
      ]
     },
     "metadata": {
      "needs_background": "light"
     },
     "output_type": "display_data"
    }
   ],
   "source": [
    "plt.plot(history.history['loss'])\n",
    "plt.plot(history.history['val_loss'])\n",
    "plt.title('Model Loss')\n",
    "plt.ylabel('loss')\n",
    "plt.xlabel('epoch')\n",
    "plt.legend(['train', 'validation'])\n",
    "plt.show()"
   ]
  },
  {
   "cell_type": "code",
   "execution_count": null,
   "metadata": {},
   "outputs": [],
   "source": []
  }
 ],
 "metadata": {
  "kernelspec": {
   "display_name": "Python 3",
   "language": "python",
   "name": "python3"
  },
  "language_info": {
   "codemirror_mode": {
    "name": "ipython",
    "version": 3
   },
   "file_extension": ".py",
   "mimetype": "text/x-python",
   "name": "python",
   "nbconvert_exporter": "python",
   "pygments_lexer": "ipython3",
   "version": "3.7.9"
  }
 },
 "nbformat": 4,
 "nbformat_minor": 4
}
