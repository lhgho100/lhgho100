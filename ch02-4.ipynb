{
 "cells": [
  {
   "cell_type": "code",
   "execution_count": 1,
   "id": "foster-creek",
   "metadata": {},
   "outputs": [],
   "source": [
    "import warnings\n",
    "warnings.filterwarnings(action='ignore')"
   ]
  },
  {
   "cell_type": "code",
   "execution_count": 2,
   "id": "standard-mistress",
   "metadata": {},
   "outputs": [],
   "source": [
    "import os\n",
    "import shutil"
   ]
  },
  {
   "cell_type": "code",
   "execution_count": 3,
   "id": "dangerous-treasurer",
   "metadata": {},
   "outputs": [],
   "source": [
    "work_dir = './dogs_cats/'"
   ]
  },
  {
   "cell_type": "code",
   "execution_count": null,
   "id": "olive-taiwan",
   "metadata": {},
   "outputs": [],
   "source": [
    "image_names = sorted(os.listdir(os.path.join(work_dir, 'train/train')))"
   ]
  },
  {
   "cell_type": "code",
   "execution_count": 8,
   "id": "developing-fleece",
   "metadata": {},
   "outputs": [
    {
     "data": {
      "text/plain": [
       "'./dogs_cats/train/train'"
      ]
     },
     "execution_count": 8,
     "metadata": {},
     "output_type": "execute_result"
    }
   ],
   "source": [
    "os.path.join(work_dir, 'train/train')"
   ]
  },
  {
   "cell_type": "code",
   "execution_count": null,
   "id": "thorough-fairy",
   "metadata": {},
   "outputs": [],
   "source": [
    "os.listdir(os.path.join(work_dir, 'train/train'))"
   ]
  },
  {
   "cell_type": "code",
   "execution_count": 16,
   "id": "stainless-carolina",
   "metadata": {},
   "outputs": [],
   "source": [
    "def copy_files(prefix_str, range_start, range_end, target_dir):\n",
    "    image_paths = [os.path.join(work_dir, 'train/train', prefix_str + '.' + str(i) + '.jpg') \\\n",
    "                   for i in range(range_start, range_end)]\n",
    "    dest_dir = os.path.join(work_dir, 'data', target_dir, prefix_str)\n",
    "    print(dest_dir)\n",
    "    os.makedirs(dest_dir)\n",
    "    for image_path in image_paths:\n",
    "        shutil.copy(image_path, dest_dir)"
   ]
  },
  {
   "cell_type": "code",
   "execution_count": 18,
   "id": "biological-probe",
   "metadata": {},
   "outputs": [
    {
     "name": "stdout",
     "output_type": "stream",
     "text": [
      "./dogs_cats/data\\test\\cat\n"
     ]
    }
   ],
   "source": [
    "copy_files('dog', 0, 1000, 'train')\n",
    "copy_files('cat', 0, 1000, 'train')\n",
    "copy_files('dog', 1000, 1400, 'test')\n",
    "copy_files('cat', 1000, 1400, 'test')"
   ]
  },
  {
   "cell_type": "code",
   "execution_count": null,
   "id": "suitable-genome",
   "metadata": {},
   "outputs": [],
   "source": []
  }
 ],
 "metadata": {
  "kernelspec": {
   "display_name": "Python 3",
   "language": "python",
   "name": "python3"
  },
  "language_info": {
   "codemirror_mode": {
    "name": "ipython",
    "version": 3
   },
   "file_extension": ".py",
   "mimetype": "text/x-python",
   "name": "python",
   "nbconvert_exporter": "python",
   "pygments_lexer": "ipython3",
   "version": "3.7.9"
  }
 },
 "nbformat": 4,
 "nbformat_minor": 5
}
