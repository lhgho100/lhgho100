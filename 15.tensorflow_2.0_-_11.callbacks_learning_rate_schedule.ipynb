{
 "cells": [
  {
   "cell_type": "markdown",
   "metadata": {},
   "source": [
    "# TensorFlow 2.0"
   ]
  },
  {
   "cell_type": "code",
   "execution_count": 1,
   "metadata": {},
   "outputs": [],
   "source": [
    "import os\n",
    "from glob import glob\n",
    "from datetime import datetime\n",
    "\n",
    "import numpy as np\n",
    "\n",
    "import tensorflow as tf\n",
    "from tensorflow.keras import layers\n",
    "\n",
    "from tensorflow.keras import datasets \n",
    "\n",
    "import matplotlib.pyplot as plt\n",
    "\n",
    "%matplotlib inline"
   ]
  },
  {
   "cell_type": "markdown",
   "metadata": {},
   "source": [
    "## Hyperparameter Tunning"
   ]
  },
  {
   "cell_type": "code",
   "execution_count": 2,
   "metadata": {},
   "outputs": [],
   "source": [
    "num_epochs = 20\n",
    "batch_size = 32\n",
    "\n",
    "learning_rate = 0.001\n",
    "\n",
    "dropout_rate = 0.5\n",
    "\n",
    "input_shape = (32, 32, 3)\n",
    "num_classes = 10"
   ]
  },
  {
   "cell_type": "markdown",
   "metadata": {},
   "source": [
    "## Build Model"
   ]
  },
  {
   "cell_type": "code",
   "execution_count": 3,
   "metadata": {},
   "outputs": [],
   "source": [
    "inputs = layers.Input(input_shape)\n",
    "\n",
    "net = layers.Conv2D(32, (3, 3), padding='SAME')(inputs)\n",
    "net = layers.Activation('relu')(net)\n",
    "net = layers.Conv2D(32, (3, 3), padding='SAME')(net)\n",
    "net = layers.Activation('relu')(net)\n",
    "net = layers.MaxPooling2D(pool_size=(2, 2))(net)\n",
    "net = layers.Dropout(dropout_rate)(net)\n",
    "\n",
    "net = layers.Conv2D(64, (3, 3), padding='SAME')(net)\n",
    "net = layers.Activation('relu')(net)\n",
    "net = layers.Conv2D(64, (3, 3), padding='SAME')(net)\n",
    "net = layers.Activation('relu')(net)\n",
    "net = layers.MaxPooling2D(pool_size=(2, 2))(net)\n",
    "net = layers.Dropout(dropout_rate)(net)\n",
    "\n",
    "net = layers.Flatten()(net)\n",
    "net = layers.Dense(512)(net)\n",
    "net = layers.Activation('relu')(net)\n",
    "net = layers.Dropout(dropout_rate)(net)\n",
    "net = layers.Dense(num_classes)(net)\n",
    "net = layers.Activation('softmax')(net)\n",
    "\n",
    "model = tf.keras.Model(inputs=inputs, outputs=net, name='Basic_CNN')"
   ]
  },
  {
   "cell_type": "code",
   "execution_count": 4,
   "metadata": {},
   "outputs": [],
   "source": [
    "# Model is the full model w/o custom layers\n",
    "model.compile(optimizer=tf.keras.optimizers.Adam(learning_rate),  # Optimization\n",
    "              loss='sparse_categorical_crossentropy',  # Loss Function \n",
    "              metrics=['accuracy'])  # Metrics / Accuracy"
   ]
  },
  {
   "cell_type": "markdown",
   "metadata": {},
   "source": [
    "# Data Preprocess"
   ]
  },
  {
   "cell_type": "code",
   "execution_count": 5,
   "metadata": {},
   "outputs": [],
   "source": [
    "train_paths = glob('dataset/cifar/train/*.png')[:100]\n",
    "test_paths = glob('dataset/cifar/test/*.png')[:100]"
   ]
  },
  {
   "cell_type": "code",
   "execution_count": 6,
   "metadata": {},
   "outputs": [],
   "source": [
    "def get_class_name(path):\n",
    "    return path.split('_')[-1].replace('.png', '')"
   ]
  },
  {
   "cell_type": "code",
   "execution_count": 7,
   "metadata": {},
   "outputs": [],
   "source": [
    "train_labels = [get_class_name(path) for path in train_paths]\n",
    "class_names = np.unique(train_labels)"
   ]
  },
  {
   "cell_type": "code",
   "execution_count": 8,
   "metadata": {},
   "outputs": [],
   "source": [
    "def get_label(path):\n",
    "    fname = tf.strings.split(path, '_')[-1]\n",
    "    lbl_name = tf.strings.regex_replace(fname, '.png', '')\n",
    "    onehot = tf.cast(lbl_name == class_names, tf.uint8)\n",
    "    return tf.argmax(onehot)  # 이번에는 onehot이 아닌 label 번호로"
   ]
  },
  {
   "cell_type": "code",
   "execution_count": 9,
   "metadata": {},
   "outputs": [],
   "source": [
    "def load_image_label(path):\n",
    "    gfile = tf.io.read_file(path)\n",
    "    image = tf.io.decode_image(gfile)\n",
    "    image = tf.cast(image, tf.float32) / 255.  # rescale\n",
    "    \n",
    "    label = get_label(path)\n",
    "    return image, label"
   ]
  },
  {
   "cell_type": "code",
   "execution_count": 10,
   "metadata": {},
   "outputs": [],
   "source": [
    "def image_preprocess(image, label):\n",
    "    image = tf.image.random_flip_up_down(image)\n",
    "    image = tf.image.random_flip_left_right(image)\n",
    "    return image, label"
   ]
  },
  {
   "cell_type": "code",
   "execution_count": 11,
   "metadata": {},
   "outputs": [],
   "source": [
    "AUTOTUNE = tf.data.experimental.AUTOTUNE"
   ]
  },
  {
   "cell_type": "code",
   "execution_count": 12,
   "metadata": {},
   "outputs": [],
   "source": [
    "train_dataset = tf.data.Dataset.from_tensor_slices(train_paths)\n",
    "train_dataset = train_dataset.map(load_image_label, num_parallel_calls=AUTOTUNE)\n",
    "train_dataset = train_dataset.map(image_preprocess, num_parallel_calls=AUTOTUNE)\n",
    "train_dataset = train_dataset.batch(batch_size)\n",
    "train_dataset = train_dataset.shuffle(buffer_size=len(train_paths))\n",
    "train_dataset = train_dataset.repeat()"
   ]
  },
  {
   "cell_type": "code",
   "execution_count": 13,
   "metadata": {},
   "outputs": [],
   "source": [
    "test_dataset = tf.data.Dataset.from_tensor_slices(test_paths)\n",
    "test_dataset = test_dataset.map(load_image_label, num_parallel_calls=AUTOTUNE)\n",
    "test_dataset = test_dataset.batch(batch_size)\n",
    "test_dataset = test_dataset.repeat()"
   ]
  },
  {
   "cell_type": "markdown",
   "metadata": {},
   "source": [
    "# Learning Rate Scheduler"
   ]
  },
  {
   "cell_type": "code",
   "execution_count": 14,
   "metadata": {},
   "outputs": [],
   "source": [
    "import math\n",
    "def scheduler(epoch):\n",
    "    if epoch < 10:\n",
    "        return 0.001\n",
    "    else:\n",
    "        return 0.001 * math.exp(0.1 * (10 - epoch))\n",
    "learning_rate_scheduler = tf.keras.callbacks.LearningRateScheduler(scheduler)"
   ]
  },
  {
   "cell_type": "code",
   "execution_count": null,
   "metadata": {},
   "outputs": [],
   "source": []
  },
  {
   "cell_type": "markdown",
   "metadata": {},
   "source": [
    "## Training"
   ]
  },
  {
   "cell_type": "code",
   "execution_count": 15,
   "metadata": {},
   "outputs": [
    {
     "name": "stderr",
     "output_type": "stream",
     "text": [
      "/Users/lecturer/opt/anaconda3/envs/cvtf2/lib/python3.7/site-packages/tensorflow/python/keras/engine/training.py:1844: UserWarning: `Model.fit_generator` is deprecated and will be removed in a future version. Please use `Model.fit`, which supports generators.\n",
      "  warnings.warn('`Model.fit_generator` is deprecated and '\n"
     ]
    },
    {
     "name": "stdout",
     "output_type": "stream",
     "text": [
      "Epoch 1/20\n",
      "3/3 [==============================] - 2s 608ms/step - loss: 2.3362 - accuracy: 0.1551 - val_loss: 2.3314 - val_accuracy: 0.0833\n",
      "Epoch 2/20\n",
      "3/3 [==============================] - 0s 138ms/step - loss: 2.3431 - accuracy: 0.1237 - val_loss: 2.3216 - val_accuracy: 0.0729\n",
      "Epoch 3/20\n",
      "3/3 [==============================] - 0s 137ms/step - loss: 2.3190 - accuracy: 0.1201 - val_loss: 2.3174 - val_accuracy: 0.0729\n",
      "Epoch 4/20\n",
      "3/3 [==============================] - 0s 135ms/step - loss: 2.2412 - accuracy: 0.1998 - val_loss: 2.3161 - val_accuracy: 0.0729\n",
      "Epoch 5/20\n",
      "3/3 [==============================] - 0s 124ms/step - loss: 2.2083 - accuracy: 0.2279 - val_loss: 2.3308 - val_accuracy: 0.0729\n",
      "Epoch 6/20\n",
      "3/3 [==============================] - 0s 142ms/step - loss: 2.3185 - accuracy: 0.0833 - val_loss: 2.3255 - val_accuracy: 0.0729\n",
      "Epoch 7/20\n",
      "3/3 [==============================] - 0s 113ms/step - loss: 2.2247 - accuracy: 0.1917 - val_loss: 2.3348 - val_accuracy: 0.0729\n",
      "Epoch 8/20\n",
      "3/3 [==============================] - 0s 122ms/step - loss: 2.3077 - accuracy: 0.1276 - val_loss: 2.3358 - val_accuracy: 0.0729\n",
      "Epoch 9/20\n",
      "3/3 [==============================] - 0s 109ms/step - loss: 2.3280 - accuracy: 0.0805 - val_loss: 2.3260 - val_accuracy: 0.0729\n",
      "Epoch 10/20\n",
      "3/3 [==============================] - 0s 110ms/step - loss: 2.3075 - accuracy: 0.1477 - val_loss: 2.3169 - val_accuracy: 0.0938\n",
      "Epoch 11/20\n",
      "3/3 [==============================] - 0s 144ms/step - loss: 2.2613 - accuracy: 0.1992 - val_loss: 2.3181 - val_accuracy: 0.1042\n",
      "Epoch 12/20\n",
      "3/3 [==============================] - 0s 110ms/step - loss: 2.2929 - accuracy: 0.1911 - val_loss: 2.3114 - val_accuracy: 0.1250\n",
      "Epoch 13/20\n",
      "3/3 [==============================] - 0s 120ms/step - loss: 2.2052 - accuracy: 0.1837 - val_loss: 2.3034 - val_accuracy: 0.1354\n",
      "Epoch 14/20\n",
      "3/3 [==============================] - 0s 155ms/step - loss: 2.1834 - accuracy: 0.2396 - val_loss: 2.2879 - val_accuracy: 0.1146\n",
      "Epoch 15/20\n",
      "3/3 [==============================] - 0s 127ms/step - loss: 2.2068 - accuracy: 0.1984 - val_loss: 2.2794 - val_accuracy: 0.1354\n",
      "Epoch 16/20\n",
      "3/3 [==============================] - 0s 137ms/step - loss: 2.0895 - accuracy: 0.2214 - val_loss: 2.3108 - val_accuracy: 0.1354\n",
      "Epoch 17/20\n",
      "3/3 [==============================] - 0s 118ms/step - loss: 2.1331 - accuracy: 0.2123 - val_loss: 2.2958 - val_accuracy: 0.1354\n",
      "Epoch 18/20\n",
      "3/3 [==============================] - 0s 147ms/step - loss: 2.1689 - accuracy: 0.2161 - val_loss: 2.2961 - val_accuracy: 0.1458\n",
      "Epoch 19/20\n",
      "3/3 [==============================] - 0s 109ms/step - loss: 2.1918 - accuracy: 0.2417 - val_loss: 2.2451 - val_accuracy: 0.1771\n",
      "Epoch 20/20\n",
      "3/3 [==============================] - 0s 127ms/step - loss: 1.9990 - accuracy: 0.3125 - val_loss: 2.2575 - val_accuracy: 0.1250\n"
     ]
    },
    {
     "data": {
      "text/plain": [
       "<tensorflow.python.keras.callbacks.History at 0x7fcd20cfa610>"
      ]
     },
     "execution_count": 15,
     "metadata": {},
     "output_type": "execute_result"
    }
   ],
   "source": [
    "steps_per_epoch = len(train_paths) // batch_size\n",
    "validation_steps = len(test_paths) // batch_size\n",
    "\n",
    "model.fit_generator(\n",
    "    train_dataset,\n",
    "    steps_per_epoch=steps_per_epoch,\n",
    "    validation_data=test_dataset,\n",
    "    validation_steps=validation_steps,\n",
    "    epochs=num_epochs,\n",
    "    callbacks=[learning_rate_scheduler]\n",
    ")"
   ]
  },
  {
   "cell_type": "code",
   "execution_count": null,
   "metadata": {},
   "outputs": [],
   "source": []
  }
 ],
 "metadata": {
  "kernelspec": {
   "display_name": "Python 3",
   "language": "python",
   "name": "python3"
  },
  "language_info": {
   "codemirror_mode": {
    "name": "ipython",
    "version": 3
   },
   "file_extension": ".py",
   "mimetype": "text/x-python",
   "name": "python",
   "nbconvert_exporter": "python",
   "pygments_lexer": "ipython3",
   "version": "3.7.9"
  }
 },
 "nbformat": 4,
 "nbformat_minor": 4
}
